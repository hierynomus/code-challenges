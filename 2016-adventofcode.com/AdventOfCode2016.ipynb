{
 "cells": [
  {
   "cell_type": "markdown",
   "metadata": {},
   "source": [
    "# Advent of Code 2016\n",
    "#### Author: Jeroen van Erp\n",
    "#### Date: 2016-12-29\n",
    "\n",
    "This year, like last year I've played in the Advent of Code. Together with a few colleagues we've had a nice internal competition. You can find some of my colleagues results at:\n",
    "\n",
    "- Serge Beaumont: https://github.com/sbeaumont/AoC\n",
    "- Bastiaan Bakker: https://github.com/bastiaanb/advent-of-code-2016\n",
    "- Frank van Wijk: https://github.com/fvanwijk/adventofcode-2016\n",
    "- Arnout Engelen: https://github.com/raboof/adventofcode\n",
    "- Jasper Stein: https://github.com/jasperstein/idris-experiments/tree/aoc2016"
   ]
  },
  {
   "cell_type": "markdown",
   "metadata": {},
   "source": [
    "## Preamble\n",
    "First let's set up some common functions and imports"
   ]
  },
  {
   "cell_type": "code",
   "execution_count": 1,
   "metadata": {
    "collapsed": false
   },
   "outputs": [],
   "source": [
    "import re\n",
    "from heapq import heappush, heappop\n",
    "from collections import namedtuple, defaultdict, Counter\n",
    "from hashlib import md5\n",
    "from bitarray import bitarray\n",
    "import math\n",
    "from functools import partial, lru_cache\n",
    "from itertools import permutations, combinations, islice\n",
    "import numpy as np\n",
    "import networkx as nx\n",
    "import urllib\n",
    "\n",
    "def Input(day):\n",
    "    \"Open this day's input file.\"\n",
    "    filename = 'day{}.in'.format(day)\n",
    "    try:\n",
    "        return open(filename)\n",
    "    except FileNotFoundError:\n",
    "        return urllib.request.urlopen(\"https://raw.githubusercontent.com/hierynomus/code-challenges/master/2016-adventofcode.com/\" + filename).text\n",
    "\n",
    "    \n",
    "def neighbours4(point):\n",
    "    \"\"\"All horizontal and vertical neighbours of a point in a grid\"\"\"\n",
    "    for dx, dy in [(-1, 0), (1, 0), (0, -1), (0, 1)]:\n",
    "        yield (point[0] + dx, point[1] + dy)\n",
    "\n",
    "def neighbours8(point):\n",
    "    \"\"\"All neighbours (including diagonals) of a point in a grid\"\"\"\n",
    "    for dx in [-1, 0, 1]:\n",
    "        for dy in [-1, 0, 1]:\n",
    "            if dx != 0 and dy != 0:\n",
    "                yield (point[0] + dx, point[1] + dy)\n",
    "                \n",
    "def manhattan_distance(p1, p2):\n",
    "    \"\"\"Return the Manhattan distance between two points\"\"\"\n",
    "    return abs(p1[0] - p2[0]) + abs(p1[1] - p2[1])\n",
    "\n",
    "def window(seq, window_size):\n",
    "    \"\"\"Generator that slides a window over the iterable\"\"\"\n",
    "    for i in range(len(seq) - window_size + 1):\n",
    "        yield seq[i:i + window_size]\n",
    "        \n",
    "def astar(initial_state, f_next, f_heuristic):\n",
    "    \"\"\"Do an A* search\"\"\"\n",
    "    frontier = [(f_heuristic(initial_state), 0, initial_state)]\n",
    "    seen_states = set([initial_state])\n",
    "    previous_states = {initial_state: None}\n",
    "    while frontier:\n",
    "        cost, path_length, state = heappop(frontier)\n",
    "        if f_heuristic(state) == 0:\n",
    "            yield path(state, previous_states)\n",
    "        else:\n",
    "            for next_state in f_next(state):\n",
    "                # Do we need to check whether the path_cost is lower than previously seen?\n",
    "                # This is guaranteed if the heuristic is consistent and only depends on the next_state\n",
    "                # I.e. this is not a weighted graph!\n",
    "                # Else we need to implement reprioritization\n",
    "                if next_state in seen_states:\n",
    "                    continue\n",
    "                heappush(frontier, (path_length + f_heuristic(next_state), path_length + 1, next_state))\n",
    "                seen_states.add(next_state)\n",
    "                previous_states[next_state] = state\n",
    "    return \"FAIL!\"\n",
    "\n",
    "\n",
    "def path(state, previous_states):\n",
    "    while state:\n",
    "        yield state\n",
    "        state = previous_states[state]\n",
    "\n",
    "\n",
    "def path_length(path):\n",
    "    pl = 0\n",
    "    for s in path:\n",
    "        pl += 1\n",
    "    return pl"
   ]
  },
  {
   "cell_type": "markdown",
   "metadata": {},
   "source": [
    "## Day 1: No Time for a Taxicab\n",
    "\n",
    "### Part 1\n",
    "Santa's sleigh uses a very high-precision clock to guide its movements, and the clock's oscillator is regulated by stars. Unfortunately, the stars have been stolen... by the Easter Bunny. To save Christmas, Santa needs you to retrieve all fifty stars by December 25th.\n",
    "\n",
    "Collect stars by solving puzzles. Two puzzles will be made available on each day in the advent calendar; the second puzzle is unlocked when you complete the first. Each puzzle grants one star. Good luck!\n",
    "\n",
    "You're airdropped near **Easter Bunny Headquarters** in a city somewhere. \"Near\", unfortunately, is as close as you can get - the instructions on the Easter Bunny Recruiting Document the Elves intercepted start here, and nobody had time to work them out further.\n",
    "\n",
    "The Document indicates that you should start at the given coordinates (where you just landed) and face North. Then, follow the provided sequence: either turn left (L) or right (R) 90 degrees, then walk forward the given number of blocks, ending at a new intersection.\n",
    "\n",
    "There's no time to follow such ridiculous instructions on foot, though, so you take a moment and work out the destination. Given that you can only walk on the street grid of the city, how far is the shortest path to the destination?\n",
    "\n",
    "For example:\n",
    "\n",
    "- Following `R2, L3` leaves you 2 blocks East and 3 blocks North, or 5 blocks away.\n",
    "- `R2, R2, R2` leaves you 2 blocks due South of your starting position, which is 2 blocks away.\n",
    "- `R5, L5, R5, R3` leaves you 12 blocks away.\n",
    "\n",
    "**How many blocks away** is Easter Bunny HQ?"
   ]
  },
  {
   "cell_type": "code",
   "execution_count": 2,
   "metadata": {
    "collapsed": false
   },
   "outputs": [
    {
     "name": "stdout",
     "output_type": "stream",
     "text": [
      "Day 1.1: 287\n"
     ]
    }
   ],
   "source": [
    "# 0 = North, 1 = West, 2 = South, 3 = East\n",
    "dirs = {0: (0, 1), 1: (1, 0), 2: (0, -1), 3: (-1, 0)}\n",
    "\n",
    "\n",
    "def walk(point, direction, instruction):\n",
    "    x, y = point\n",
    "    direction = turn(direction, instruction[0])\n",
    "    dx, dy = dirs[direction]\n",
    "    for _ in range(int(instruction[1:])):\n",
    "        x, y = x + dx, y + dy\n",
    "        yield (x, y), direction\n",
    "\n",
    "def turn(direction, c):\n",
    "    return (direction + (1 if c == 'R' else -1)) % 4\n",
    "\n",
    "with Input(1) as f:\n",
    "    direction = 0\n",
    "    position = (0, 0)\n",
    "    for instruction in f.readline().split(', '):\n",
    "        position, direction = list(walk(position, direction, instruction))[-1]\n",
    "\n",
    "    print(\"Day 1.1: {}\".format(manhattan_distance((0, 0), position)))"
   ]
  },
  {
   "cell_type": "markdown",
   "metadata": {},
   "source": [
    "### Part 2\n",
    "Then, you notice the instructions continue on the back of the Recruiting Document. Easter Bunny HQ is actually at the first location you visit twice.\n",
    "\n",
    "For example, if your instructions are `R8, R4, R4, R8`, the first location you visit twice is 4 blocks away, due East.\n",
    "\n",
    "How many blocks away is the **first location you visit twice**?"
   ]
  },
  {
   "cell_type": "code",
   "execution_count": 3,
   "metadata": {
    "collapsed": false
   },
   "outputs": [
    {
     "name": "stdout",
     "output_type": "stream",
     "text": [
      "Day 1.2: 133\n"
     ]
    }
   ],
   "source": [
    "with Input(1) as f:\n",
    "    def solve():\n",
    "        direction = 0\n",
    "        position = (0, 0)\n",
    "        visited = set()\n",
    "        for instruction in f.readline().split(', '):\n",
    "            for p, d in walk(position, direction, instruction):\n",
    "                if p in visited:\n",
    "                    yield p\n",
    "                visited.add(p)\n",
    "                position, direction = p, d\n",
    "    print(\"Day 1.2: {}\".format(manhattan_distance((0, 0), next(solve()))))\n"
   ]
  },
  {
   "cell_type": "markdown",
   "metadata": {},
   "source": [
    "## Day 2: Bathroom security\n",
    "You arrive at **Easter Bunny Headquarters** under cover of darkness. However, you left in such a rush that you forgot to use the bathroom! Fancy office buildings like this one usually have keypad locks on their bathrooms, so you search the front desk for the code.\n",
    "\n",
    "\"In order to improve security,\" the document you find says, \"bathroom codes will no longer be written down. Instead, please memorize and follow the procedure below to access the bathrooms.\"\n",
    "\n",
    "The document goes on to explain that each button to be pressed can be found by starting on the previous button and moving to adjacent buttons on the keypad: U moves up, D moves down, L moves left, and R moves right. Each line of instructions corresponds to one button, starting at the previous button (or, for the first line, **the \"5\" button**); press whatever button you're on at the end of each line. If a move doesn't lead to a button, ignore it.\n",
    "\n",
    "You can't hold it much longer, so you decide to figure out the code as you walk to the bathroom. You picture a keypad like this:\n",
    "\n",
    "```\n",
    "1 2 3\n",
    "4 5 6\n",
    "7 8 9\n",
    "```\n",
    "Suppose your instructions are:\n",
    "\n",
    "```\n",
    "ULL\n",
    "RRDDD\n",
    "LURDL\n",
    "UUUUD\n",
    "```\n",
    "\n",
    "- You start at \"5\" and move up (to \"2\"), left (to \"1\"), and left (you can't, and stay on \"1\"), so the first button is `1`.\n",
    "- Starting from the previous button (\"1\"), you move right twice (to \"3\") and then down three times (stopping at \"9\" after two moves and ignoring the third), ending up with `9`.\n",
    "- Continuing from \"9\", you move left, up, right, down, and left, ending with `8`.\n",
    "- Finally, you move up four times (stopping at \"2\"), then down once, ending with `5`.\n",
    "So, in this example, the bathroom code is `1985`.\n",
    "\n",
    "Your puzzle input is the instructions from the document you found at the front desk. What is the `bathroom code`?"
   ]
  },
  {
   "cell_type": "code",
   "execution_count": 4,
   "metadata": {
    "collapsed": false
   },
   "outputs": [
    {
     "name": "stdout",
     "output_type": "stream",
     "text": [
      "Day 2.1: 78293\n"
     ]
    }
   ],
   "source": [
    "keypad = [[1, 2, 3], [4, 5, 6], [7, 8, 9]]\n",
    "moves = {\n",
    "    'U': lambda k: (k[0], max(0, k[1] - 1)),\n",
    "    'D': lambda k: (k[0], min(2, k[1] + 1)),\n",
    "    'L': lambda k: (max(0, k[0] - 1), k[1]),\n",
    "    'R': lambda k: (min(2, k[0] + 1), k[1])\n",
    "}\n",
    "\n",
    "with Input(2) as f:\n",
    "    key = (1, 1)\n",
    "    sequence = []\n",
    "    for line in f:\n",
    "        for c in line.strip():\n",
    "            key = moves[c](key)\n",
    "        sequence.append(keypad[key[1]][key[0]])\n",
    "    print(\"Day 2.1: {}\".format(''.join(map(str, sequence))))"
   ]
  },
  {
   "cell_type": "markdown",
   "metadata": {},
   "source": [
    "### Part 2\n",
    "You finally arrive at the bathroom (it's a several minute walk from the lobby so visitors can behold the many fancy conference rooms and water coolers on this floor) and go to punch in the code. Much to your bladder's dismay, the keypad is not at all like you imagined it. Instead, you are confronted with the result of hundreds of man-hours of bathroom-keypad-design meetings:\n",
    "\n",
    "```\n",
    "    1\n",
    "  2 3 4\n",
    "5 6 7 8 9\n",
    "  A B C\n",
    "    D\n",
    "```\n",
    "You still start at \"5\" and stop when you're at an edge, but given the same instructions as above, the outcome is very different:\n",
    "\n",
    "- You start at \"5\" and don't move at all (up and left are both edges), ending at `5`.\n",
    "- Continuing from \"5\", you move right twice and down three times (through \"6\", \"7\", \"B\", \"D\", \"D\"), ending at `D`.\n",
    "- Then, from \"D\", you move five more times (through \"D\", \"B\", \"C\", \"C\", \"B\"), ending at `B`.\n",
    "- Finally, after five more moves, you end at `3`.\n",
    "So, given the actual keypad layout, the code would be `5DB3`.\n",
    "\n",
    "Using the same instructions in your puzzle input, what is the correct **bathroom code**?"
   ]
  },
  {
   "cell_type": "code",
   "execution_count": 5,
   "metadata": {
    "collapsed": false
   },
   "outputs": [
    {
     "name": "stdout",
     "output_type": "stream",
     "text": [
      "Day 2.2: AC8C8\n"
     ]
    }
   ],
   "source": [
    "keypad = {\n",
    "    '1': {'D': '3'},\n",
    "    '2': {'R': '3', 'D': '6'},\n",
    "    '3': {'U': '1', 'L': '2', 'D': '7', 'R': '4'},\n",
    "    '4': {'L': '3', 'D': '8'},\n",
    "    '5': {'R': '6'},\n",
    "    '6': {'L': '5', 'U': '2', 'R': '7', 'D': 'A'},\n",
    "    '7': {'L': '6', 'U': '3', 'R': '8', 'D': 'B'},\n",
    "    '8': {'L': '7', 'U': '4', 'R': '9', 'D': 'C'},\n",
    "    '9': {'L': '8'},\n",
    "    'A': {'U': '6', 'R': 'B'},\n",
    "    'B': {'L': 'A', 'U': '7', 'R': 'C', 'D': 'D'},\n",
    "    'C': {'U': '8', 'L': 'B'},\n",
    "    'D': {'U': 'A'}\n",
    "}\n",
    "\n",
    "with Input(2) as f:\n",
    "    key = '5'\n",
    "    sequence = []\n",
    "    for line in f:\n",
    "        for c in line.strip():\n",
    "            key = keypad[key][c] if c in keypad[key] else key\n",
    "        sequence.append(key)\n",
    "    print(\"Day 2.2: {}\".format(''.join(sequence)))"
   ]
  },
  {
   "cell_type": "markdown",
   "metadata": {},
   "source": [
    "## Day 3: Squares With Three Sides\n",
    "Now that you can think clearly, you move deeper into the labyrinth of hallways and office furniture that makes up this part of Easter Bunny HQ. This must be a graphic design department; the walls are covered in specifications for triangles.\n",
    "\n",
    "Or are they?\n",
    "\n",
    "The design document gives the side lengths of each triangle it describes, but... `5 10 25`? Some of these aren't triangles. You can't help but mark the impossible ones.\n",
    "\n",
    "In a valid triangle, the sum of any two sides must be larger than the remaining side. For example, the \"triangle\" given above is impossible, because `5 + 10` is not larger than `25`.\n",
    "\n",
    "In your puzzle input, **how many** of the listed triangles are **possible**?"
   ]
  },
  {
   "cell_type": "code",
   "execution_count": 6,
   "metadata": {
    "collapsed": false
   },
   "outputs": [
    {
     "name": "stdout",
     "output_type": "stream",
     "text": [
      "Day 3.1: 869\n"
     ]
    }
   ],
   "source": [
    "def is_triangle(triangle):\n",
    "    x, y, z = sorted(triangle)\n",
    "    return x + y > z\n",
    "\n",
    "with Input(3) as f:\n",
    "    triangles = [[int(c) for c in line.strip().split()] for line in f]\n",
    "    print(\"Day 3.1: {}\".format(sum(map(is_triangle, triangles))))"
   ]
  },
  {
   "cell_type": "markdown",
   "metadata": {},
   "source": [
    "Now that you've helpfully marked up their design documents, it occurs to you that triangles are specified in groups of three **vertically**. Each set of three numbers in a column specifies a triangle. Rows are unrelated.\n",
    "\n",
    "For example, given the following specification, numbers with the same hundreds digit would be part of the same triangle:\n",
    "\n",
    "```\n",
    "101 301 501\n",
    "102 302 502\n",
    "103 303 503\n",
    "201 401 601\n",
    "202 402 602\n",
    "203 403 603\n",
    "```\n",
    "In your puzzle input, and instead reading by columns, **how many** of the listed triangles are **possible**?"
   ]
  },
  {
   "cell_type": "code",
   "execution_count": 7,
   "metadata": {
    "collapsed": false
   },
   "outputs": [
    {
     "name": "stdout",
     "output_type": "stream",
     "text": [
      "Day 3.2: 1544\n"
     ]
    }
   ],
   "source": [
    "triangles = np.transpose(np.array(triangles)).reshape(len(triangles), 3)\n",
    "print(\"Day 3.2: {}\".format(sum(map(is_triangle, triangles))))"
   ]
  },
  {
   "cell_type": "markdown",
   "metadata": {},
   "source": [
    "## Day 4: Security Through Obscurity\n",
    "Finally, you come across an information kiosk with a list of rooms. Of course, the list is encrypted and full of decoy data, but the instructions to decode the list are barely hidden nearby. Better remove the decoy data first.\n",
    "\n",
    "Each room consists of an encrypted name (lowercase letters separated by dashes) followed by a dash, a sector ID, and a checksum in square brackets.\n",
    "\n",
    "A room is real (not a decoy) if the checksum is the five most common letters in the encrypted name, in order, with ties broken by alphabetization. For example:\n",
    "\n",
    "- `aaaaa-bbb-z-y-x-123[abxyz]` is a real room because the most common letters are `a` (5), `b` (3), and then a tie between `x`, `y`, and `z`, which are listed alphabetically.\n",
    "- `a-b-c-d-e-f-g-h-987[abcde]` is a real room because although the letters are all tied (1 of each), the first five are listed alphabetically.\n",
    "- `not-a-real-room-404[oarel]` is a real room.\n",
    "- `totally-real-room-200[decoy]` is not.\n",
    "\n",
    "Of the real rooms from the list above, the sum of their sector IDs is `1514`.\n",
    "\n",
    "What is the **sum of the sector IDs of the real rooms**?"
   ]
  },
  {
   "cell_type": "code",
   "execution_count": 8,
   "metadata": {
    "collapsed": false
   },
   "outputs": [
    {
     "name": "stdout",
     "output_type": "stream",
     "text": [
      "Day 4.1: 409147\n"
     ]
    }
   ],
   "source": [
    "room_re = re.compile(\"(?P<name>[a-z-]+)-(?P<sector>[0-9]+)\\[(?P<checksum>[a-z]{5})\\]\")\n",
    "\n",
    "def real_room(room):\n",
    "    counter = Counter(room['name'])\n",
    "    del counter['-']\n",
    "    top5 = sorted([(-n, c) for c, n in counter.most_common()])[:5]\n",
    "    top = ''.join([c for n, c in top5])\n",
    "    return room['checksum'] == top\n",
    "\n",
    "with Input(4) as f:\n",
    "    rooms = list(filter(real_room, [room_re.search(r).groupdict() for r in f]))\n",
    "    print(\"Day 4.1: {}\".format(sum(map(lambda r: int(r['sector']), rooms))))"
   ]
  },
  {
   "cell_type": "markdown",
   "metadata": {},
   "source": [
    "### Part 2\n",
    "With all the decoy data out of the way, it's time to decrypt this list and get moving.\n",
    "\n",
    "The room names are encrypted by a state-of-the-art shift cipher, which is nearly unbreakable without the right software. However, the information kiosk designers at Easter Bunny HQ were not expecting to deal with a master cryptographer like yourself.\n",
    "\n",
    "To decrypt a room name, rotate each letter forward through the alphabet a number of times equal to the room's sector ID. `A` becomes `B`, `B` becomes `C`, `Z` becomes `A`, and so on. Dashes become spaces.\n",
    "\n",
    "For example, the real name for `qzmt-zixmtkozy-ivhz-343` is `very encrypted name`.\n",
    "\n",
    "**What is the sector ID** of the room where North Pole objects are stored?"
   ]
  },
  {
   "cell_type": "code",
   "execution_count": 9,
   "metadata": {
    "collapsed": false
   },
   "outputs": [
    {
     "name": "stdout",
     "output_type": "stream",
     "text": [
      "Day 4.2: 991\n"
     ]
    }
   ],
   "source": [
    "def solve(rooms):\n",
    "    for room in rooms:\n",
    "        name, sector = room['name'], int(room['sector'])\n",
    "        decrypted = ''.join([' ' if c == '-' else chr((((ord(c) - 97) + sector) % 26) + 97) for c in name])\n",
    "        if 'northpole' in decrypted:\n",
    "            yield sector\n",
    "\n",
    "print(\"Day 4.2: {}\".format(next(solve(rooms))))"
   ]
  },
  {
   "cell_type": "markdown",
   "metadata": {
    "collapsed": true
   },
   "source": [
    "## Day 5: How About a Nice Game of Chess\n",
    "You are faced with a security door designed by Easter Bunny engineers that seem to have acquired most of their security knowledge by watching hacking movies.\n",
    "\n",
    "The **eight-character password** for the door is generated one character at a time by finding the MD5 hash of some Door ID (your puzzle input) and an increasing integer index (starting with `0`).\n",
    "\n",
    "A hash indicates the **next character** in the password if its hexadecimal representation starts with **five zeroes**. If it does, the sixth character in the hash is the next character of the password.\n",
    "\n",
    "For example, if the Door ID is `abc`:\n",
    "\n",
    "- The first index which produces a hash that starts with five zeroes is `3231929`, which we find by hashing `abc3231929`; the sixth character of the hash, and thus the first character of the password, is `1`.\n",
    "- `5017308` produces the next interesting hash, which starts with `000008f82...`, so the second character of the password is `8`.\n",
    "- The third time a hash starts with five zeroes is for `abc5278568`, discovering the character `f`.\n",
    "\n",
    "In this example, after continuing this search a total of eight times, the password is `18f47a30`.\n",
    "\n",
    "Given the actual Door ID, **what is the password**?\n",
    "\n",
    "Your puzzle input is `reyedfim`"
   ]
  },
  {
   "cell_type": "code",
   "execution_count": 10,
   "metadata": {
    "collapsed": false
   },
   "outputs": [
    {
     "name": "stdout",
     "output_type": "stream",
     "text": [
      "Day 5.1: f97c354d\n"
     ]
    }
   ],
   "source": [
    "def door_password(inp):\n",
    "    hasher = md5(inp.encode('utf-8'))\n",
    "    idx = 0\n",
    "    while True:\n",
    "        copy = hasher.copy()\n",
    "        copy.update(str(idx).encode('utf-8'))\n",
    "        digest = copy.hexdigest()\n",
    "        idx += 1\n",
    "        if digest[:5] == '00000':\n",
    "            yield digest\n",
    "\n",
    "print(\"Day 5.1: {}\".format(''.join([c[5] for _, c in zip(range(8), door_password('reyedfim'))])))\n"
   ]
  },
  {
   "cell_type": "markdown",
   "metadata": {},
   "source": [
    "### Part 2\n",
    "As the door slides open, you are presented with a second door that uses a slightly more inspired security mechanism. Clearly unimpressed by the last version (in what movie is the password decrypted **in order**?!), the Easter Bunny engineers have worked out a better solution.\n",
    "\n",
    "Instead of simply filling in the password from left to right, the hash now also indicates the **position** within the password to fill. You still look for hashes that begin with five zeroes; however, now, the **sixth** character represents the **position** (`0`-`7`), and the **seventh** character is the character to put in that position.\n",
    "\n",
    "A hash result of `000001f` means that `f` is the **second** character in the password. Use only the **first result** for each position, and ignore invalid positions.\n",
    "\n",
    "For example, if the Door ID is `abc`:\n",
    "\n",
    "- The first interesting hash is from `abc3231929`, which produces `0000015...`; so, `5` goes in position `1`: `_5______`.\n",
    "- In the previous method, `5017308` produced an interesting hash; however, it is ignored, because it specifies an invalid position (`8`).\n",
    "- The second interesting hash is at index `5357525`, which produces `000004e...`; so, `e` goes in position `4`: `_5__e___`.\n",
    "\n",
    "You almost choke on your popcorn as the final character falls into place, producing the password `05ace8e3`.\n",
    "\n",
    "Given the actual Door ID and this new method, **what is the password**? Be extra proud of your solution if it uses a cinematic \"decrypting\" animation."
   ]
  },
  {
   "cell_type": "code",
   "execution_count": 11,
   "metadata": {
    "collapsed": false
   },
   "outputs": [
    {
     "name": "stdout",
     "output_type": "stream",
     "text": [
      "Day 5.2: 863dde27\n"
     ]
    }
   ],
   "source": [
    "password = [None] * 8\n",
    "generator = door_password('reyedfim')\n",
    "while None in password:\n",
    "    h = next(generator)\n",
    "    pos = int(h[5], 16)\n",
    "    if pos < 8 and not password[pos]:\n",
    "        password[pos] = h[6]\n",
    "        \n",
    "print(\"Day 5.2: {}\".format(''.join(password)))"
   ]
  },
  {
   "cell_type": "markdown",
   "metadata": {},
   "source": [
    "## Day 6: Signals and Noise\n",
    "Something is jamming your communications with Santa. Fortunately, your signal is only partially jammed, and protocol in situations like this is to switch to a simple repetition code to get the message through.\n",
    "\n",
    "In this model, the same message is sent repeatedly. You've recorded the repeating message signal (your puzzle input), but the data seems quite corrupted - almost too badly to recover. **Almost**.\n",
    "\n",
    "All you need to do is figure out which character is most frequent for each position. For example, suppose you had recorded the following messages:\n",
    "\n",
    "```\n",
    "eedadn\n",
    "drvtee\n",
    "eandsr\n",
    "raavrd\n",
    "atevrs\n",
    "tsrnev\n",
    "sdttsa\n",
    "rasrtv\n",
    "nssdts\n",
    "ntnada\n",
    "svetve\n",
    "tesnvt\n",
    "vntsnd\n",
    "vrdear\n",
    "dvrsen\n",
    "enarar\n",
    "```\n",
    "\n",
    "The most common character in the first column is `e`; in the second, `a`; in the third, `s`, and so on. Combining these characters returns the error-corrected message, easter.\n",
    "\n",
    "Given the recording in your puzzle input, **what is the error-corrected version** of the message being sent?"
   ]
  },
  {
   "cell_type": "code",
   "execution_count": 12,
   "metadata": {
    "collapsed": false
   },
   "outputs": [
    {
     "name": "stdout",
     "output_type": "stream",
     "text": [
      "Day 6.1: zcreqgiv\n"
     ]
    }
   ],
   "source": [
    "with Input(6) as f:\n",
    "    inp = np.array([list(line.strip()) for line in f])\n",
    "    counters = [Counter(p).most_common() for p in np.transpose(inp)]\n",
    "\n",
    "print(\"Day 6.1: {}\".format(''.join([c[0][0] for c in counters])))"
   ]
  },
  {
   "cell_type": "markdown",
   "metadata": {},
   "source": [
    "### Part 2\n",
    "Of course, that **would** be the message - if you hadn't agreed to use a **modified repetition code** instead.\n",
    "\n",
    "In this modified code, the sender instead transmits what looks like random data, but for each character, the character they actually want to send is **slightly less likely** than the others. Even after signal-jamming noise, you can look at the letter distributions in each column and choose the **least common** letter to reconstruct the original message.\n",
    "\n",
    "In the above example, the least common character in the first column is `a`; in the second, `d`, and so on. Repeating this process for the remaining characters produces the original message, `advent`.\n",
    "\n",
    "Given the recording in your puzzle input and this new decoding methodology, **what is the original message** that Santa is trying to send?"
   ]
  },
  {
   "cell_type": "code",
   "execution_count": 13,
   "metadata": {
    "collapsed": false
   },
   "outputs": [
    {
     "name": "stdout",
     "output_type": "stream",
     "text": [
      "Day 6.2: pljvorrk\n"
     ]
    }
   ],
   "source": [
    "print(\"Day 6.2: {}\".format(''.join(c[-1][0] for c in counters)))"
   ]
  },
  {
   "cell_type": "markdown",
   "metadata": {},
   "source": [
    "## Day 7: Internet Protocol Version 7\n",
    "While snooping around the local network of EBHQ, you compile a list of IP addresses (they're IPv7, of course; IPv6 is much too limited). You'd like to figure out which IPs support **TLS** (transport-layer snooping).\n",
    "\n",
    "An IP supports TLS if it has an Autonomous Bridge Bypass Annotation, or **ABBA**. An ABBA is any four-character sequence which consists of a pair of two different characters followed by the reverse of that pair, such as xyyx or abba. However, the IP also must not have an ABBA within any hypernet sequences, which are contained by **square brackets**.\n",
    "\n",
    "For example:\n",
    "\n",
    "- `abba[mnop]qrst` supports TLS (`abba` outside square brackets).\n",
    "- `abcd[bddb]xyyx` does not support TLS (`bddb` is within square brackets, even though `xyyx` is outside square brackets).\n",
    "- `aaaa[qwer]tyui` does not support TLS (`aaaa` is invalid; the interior characters must be different).\n",
    "- `ioxxoj[asdfgh]zxcvbn` supports TLS (`oxxo` is outside square brackets, even though it's within a larger string).\n",
    "\n",
    "**How many IPs** in your puzzle input support TLS?"
   ]
  },
  {
   "cell_type": "code",
   "execution_count": 14,
   "metadata": {
    "collapsed": false
   },
   "outputs": [
    {
     "name": "stdout",
     "output_type": "stream",
     "text": [
      "Day 7.1: 115\n"
     ]
    }
   ],
   "source": [
    "def split_ip(ip):\n",
    "    \"\"\"Split the IP into a string of comma separated supernets and a string of comma-separated hypernets\"\"\"\n",
    "    parts = re.split('\\[|\\]', ip)\n",
    "    return ','.join(parts[::2]), ','.join(parts[1::2])\n",
    "\n",
    "def abba(net):\n",
    "    return any([a == d and b == c and a != b for a, b, c, d in window(net, 4)])\n",
    "\n",
    "def tls(split_ip): return abba(split_ip[0]) and not abba(split_ip[1])\n",
    "\n",
    "with Input(7) as f:\n",
    "    splitips = [split_ip(ip) for ip in f]\n",
    "\n",
    "print(\"Day 7.1: {}\".format(sum(map(tls, splitips))))"
   ]
  },
  {
   "cell_type": "markdown",
   "metadata": {},
   "source": [
    "### Part 2\n",
    "You would also like to know which IPs support **SSL** (super-secret listening).\n",
    "\n",
    "An IP supports SSL if it has an Area-Broadcast Accessor, or **ABA**, anywhere in the supernet sequences (outside any square bracketed sections), and a corresponding Byte Allocation Block, or **BAB**, anywhere in the hypernet sequences. An ABA is any three-character sequence which consists of the same character twice with a different character between them, such as `xyx` or `aba`. A corresponding BAB is the same characters but in reversed positions: `yxy` and `bab`, respectively.\n",
    "\n",
    "For example:\n",
    "\n",
    "- `aba[bab]xyz` supports SSL (`aba` outside square brackets with corresponding `bab` within square brackets).\n",
    "- `xyx[xyx]xyx` does not support SSL (`xyx`, but no corresponding `yxy`).\n",
    "- `aaa[kek]eke` supports SSL (`eke` in supernet with corresponding `kek` in hypernet; the `aaa` sequence is not related, because the interior character must be different).\n",
    "- `zazbz[bzb]cdb` supports SSL (`zaz` has no corresponding `aza`, but `zbz` has a corresponding `bzb`, even though `zaz` and `zbz` overlap).\n",
    "\n",
    "**How many IPs** in your puzzle input support SSL?"
   ]
  },
  {
   "cell_type": "code",
   "execution_count": 15,
   "metadata": {
    "collapsed": false
   },
   "outputs": [
    {
     "name": "stdout",
     "output_type": "stream",
     "text": [
      "Day 7.2: 231\n"
     ]
    }
   ],
   "source": [
    "def aba(net):\n",
    "    for a, b, c in window(net, 3):\n",
    "        if a == c and a != b:\n",
    "            yield [a, b, a]\n",
    "\n",
    "def ssl(split_ip): return any([''.join([b, a, b]) in split_ip[1] for a, b, _ in aba(split_ip[0])])\n",
    "\n",
    "print(\"Day 7.2: {}\".format(sum(map(ssl, splitips))))"
   ]
  },
  {
   "cell_type": "markdown",
   "metadata": {},
   "source": [
    "## Day 8: Two-Factor Authentication\n",
    "You come across a door implementing what you can only assume is an implementation of two-factor authentication after a long game of requirements telephone.\n",
    "\n",
    "To get past the door, you first swipe a keycard (no problem; there was one on a nearby desk). Then, it displays a code on a little screen, and you type that code on a keypad. Then, presumably, the door unlocks.\n",
    "\n",
    "Unfortunately, the screen has been smashed. After a few minutes, you've taken everything apart and figured out how it works. Now you just have to work out what the screen **would** have displayed.\n",
    "\n",
    "The magnetic strip on the card you swiped encodes a series of instructions for the screen; these instructions are your puzzle input. The screen is **`50` pixels wide and `6` pixels tall**, all of which start **off**, and is capable of three somewhat peculiar operations:\n",
    "\n",
    "- `rect AxB` turns **on** all of the pixels in a rectangle at the top-left of the screen which is `A` wide and `B` tall.\n",
    "- `rotate row y=A by B` shifts all of the pixels in row `A` (`0` is the top row) **right** by `B` pixels. Pixels that would fall off the right end appear at the left end of the row.\n",
    "- `rotate column x=A by B` shifts all of the pixels in column `A` (`0` is the left column) **down** by `B` pixels. Pixels that would fall off the bottom appear at the top of the column.\n",
    "\n",
    "For example, here is a simple sequence on a smaller screen:\n",
    "\n",
    "- `rect 3x2` creates a small rectangle in the top-left corner:\n",
    "```\n",
    "###....\n",
    "###....\n",
    ".......\n",
    "```\n",
    "\n",
    "- `rotate column x=1 by 1` rotates the second column down by one pixel:\n",
    "```\n",
    "#.#....\n",
    "###....\n",
    ".#.....\n",
    "```\n",
    "\n",
    "- `rotate row y=0 by 4` rotates the top row right by four pixels:\n",
    "```\n",
    "....#.#\n",
    "###....\n",
    ".#.....\n",
    "```\n",
    "- `rotate column x=1 by 1` again rotates the second column down by one pixel, causing the bottom pixel to wrap back to the top:\n",
    "```\n",
    ".#..#.#\n",
    "#.#....\n",
    ".#.....\n",
    "```\n",
    "\n",
    "As you can see, this display technology is extremely powerful, and will soon dominate the tiny-code-displaying-screen market. That's what the advertisement on the back of the display tries to convince you, anyway.\n",
    "\n",
    "There seems to be an intermediate check of the voltage used by the display: after you swipe your card, if the screen did work, **how many pixels should be lit**?"
   ]
  },
  {
   "cell_type": "code",
   "execution_count": 16,
   "metadata": {
    "collapsed": false
   },
   "outputs": [
    {
     "name": "stdout",
     "output_type": "stream",
     "text": [
      "Day 8.1: 121\n"
     ]
    }
   ],
   "source": [
    "class Display(object):\n",
    "    def __init__(self, display=np.array([[' '] * 50] * 6)):\n",
    "        self.display = display\n",
    "\n",
    "    def rect(self, x, y):\n",
    "        d = self.display.copy()\n",
    "        d[:y, :x] = chr(9608)\n",
    "        return Display(d)\n",
    "\n",
    "    def show(self):\n",
    "        return '\\n'.join([''.join(l) for l in self.display])\n",
    "\n",
    "    def rotate_row(self, y, pos):\n",
    "        d = self.display.copy()\n",
    "        d[y] = np.roll(d[y], pos)\n",
    "        return Display(d)\n",
    "\n",
    "    def rotate_col(self, x, pos):\n",
    "        d = self.display.copy()\n",
    "        d = np.transpose(d)\n",
    "        d[x] = np.roll(d[x], pos)\n",
    "        return Display(np.transpose(d))\n",
    "\n",
    "    def count(self):\n",
    "        return (self.display == chr(9608)).sum()\n",
    "\n",
    "with Input(8) as f:\n",
    "    display = Display()\n",
    "    for instruction in f:\n",
    "        if 'rect' in instruction:\n",
    "            a, b = map(int, instruction[5:].split('x'))\n",
    "            display = display.rect(a, b)\n",
    "        if 'rotate row' in instruction:\n",
    "            i = instruction.split()\n",
    "            y, pos = int(i[2].split('=')[1]), int(i[4])\n",
    "            display = display.rotate_row(y, pos)\n",
    "        if 'rotate col' in instruction:\n",
    "            i = instruction.split()\n",
    "            x, pos = int(i[2].split('=')[1]), int(i[4])\n",
    "            display = display.rotate_col(x, pos)\n",
    "\n",
    "print(\"Day 8.1: {}\".format(display.count()))"
   ]
  },
  {
   "cell_type": "markdown",
   "metadata": {},
   "source": [
    "### Part 2\n",
    "You notice that the screen is only capable of displaying capital letters; in the font it uses, each letter is `5` pixels wide and `6` tall.\n",
    "\n",
    "After you swipe your card, **what code is the screen trying to display**?"
   ]
  },
  {
   "cell_type": "code",
   "execution_count": 17,
   "metadata": {
    "collapsed": false
   },
   "outputs": [
    {
     "name": "stdout",
     "output_type": "stream",
     "text": [
      "Day 8.2:\n",
      "███  █  █ ███  █  █  ██  ████  ██  ████  ███ █    \n",
      "█  █ █  █ █  █ █  █ █  █ █    █  █ █      █  █    \n",
      "█  █ █  █ █  █ █  █ █    ███  █  █ ███    █  █    \n",
      "███  █  █ ███  █  █ █    █    █  █ █      █  █    \n",
      "█ █  █  █ █ █  █  █ █  █ █    █  █ █      █  █    \n",
      "█  █  ██  █  █  ██   ██  ████  ██  ████  ███ ████ \n"
     ]
    }
   ],
   "source": [
    "print(\"Day 8.2:\\n{}\".format(display.show()))"
   ]
  },
  {
   "cell_type": "markdown",
   "metadata": {},
   "source": [
    "The solution reads: `RURUCEOEIL`"
   ]
  },
  {
   "cell_type": "markdown",
   "metadata": {},
   "source": [
    "## Day 9: Explosives in Cyperspace\n",
    "Wandering around a secure area, you come across a datalink port to a new part of the network. After briefly scanning it for interesting files, you find one file in particular that catches your attention. It's compressed with an experimental format, but fortunately, the documentation for the format is nearby.\n",
    "\n",
    "The format compresses a sequence of characters. Whitespace is ignored. To indicate that some sequence should be repeated, a marker is added to the file, like `(10x2)`. To decompress this marker, take the subsequent `10` characters and repeat them `2` times. Then, continue reading the file **after** the repeated data. The marker itself is not included in the decompressed output.\n",
    "\n",
    "If parentheses or other characters appear within the data referenced by a marker, that's okay - treat it like normal data, not a marker, and then resume looking for markers after the decompressed section.\n",
    "\n",
    "For example:\n",
    "\n",
    "- `ADVENT` contains no markers and decompresses to itself with no changes, resulting in a decompressed length of `6`.\n",
    "- `A(1x5)BC` repeats only the `B` a total of `5` times, becoming `ABBBBBC` for a decompressed length of `7`.\n",
    "- `(3x3)XYZ` becomes `XYZXYZXYZ` for a decompressed length of `9`.\n",
    "- `A(2x2)BCD(2x2)EFG` doubles the `BC` and `EF`, becoming `ABCBCDEFEFG` for a decompressed length of `11`.\n",
    "- `(6x1)(1x3)A` simply becomes `(1x3)A` - the `(1x3)` looks like a marker, but because it's within a data section of another marker, it is not treated any differently from the `A` that comes after it. It has a decompressed length of `6`.\n",
    "- `X(8x2)(3x3)ABCY` becomes `X(3x3)ABC(3x3)ABCY` (for a decompressed length of `18`), because the decompressed data from the `(8x2)` marker (the `(3x3)ABC`) is skipped and not processed further.\n",
    "\n",
    "What is the **decompressed length** of the file (your puzzle input)? Don't count whitespace."
   ]
  },
  {
   "cell_type": "code",
   "execution_count": 18,
   "metadata": {
    "collapsed": false
   },
   "outputs": [
    {
     "name": "stdout",
     "output_type": "stream",
     "text": [
      "Day 9.1: 115118\n"
     ]
    }
   ],
   "source": [
    "def decompressed_length(line):\n",
    "    start, rest = line.split(\"(\", 1) if \"(\" in line else (line, None)\n",
    "    length = len(start)\n",
    "    if not rest:\n",
    "        return length\n",
    "    compression, rest = rest.split(\")\", 1)\n",
    "    chars, repeat = map(int, compression.split(\"x\"))\n",
    "    length += chars * repeat\n",
    "    return length + decompressed_length(rest[chars:])\n",
    "\n",
    "with Input(9) as f:\n",
    "    print(\"Day 9.1: {}\".format(decompressed_length(f.read().strip())))"
   ]
  },
  {
   "cell_type": "markdown",
   "metadata": {},
   "source": [
    "### Part 2\n",
    "Apparently, the file actually uses **version two** of the format.\n",
    "\n",
    "In version two, the only difference is that markers within decompressed data **are** decompressed. This, the documentation explains, provides much more substantial compression capabilities, allowing many-gigabyte files to be stored in only a few kilobytes.\n",
    "\n",
    "For example:\n",
    "\n",
    "- `(3x3)XYZ` still becomes `XYZXYZXYZ`, as the decompressed section contains no markers.\n",
    "- `X(8x2)(3x3)ABCY` becomes `XABCABCABCABCABCABCY`, because the decompressed data from the `(8x2)` marker is then further decompressed, thus triggering the `(3x3)` marker twice for a total of six `ABC` sequences.\n",
    "- `(27x12)(20x12)(13x14)(7x10)(1x12)A` decompresses into a string of `A` repeated `241920` times.\n",
    "- `(25x3)(3x3)ABC(2x3)XY(5x2)PQRSTX(18x9)(3x2)TWO(5x7)SEVEN` becomes `445` characters long.\n",
    "\n",
    "Unfortunately, the computer you brought probably doesn't have enough memory to actually decompress the file; you'll have to **come up with another way** to get its decompressed length.\n",
    "\n",
    "What is the **decompressed length** of the file using this improved format?"
   ]
  },
  {
   "cell_type": "code",
   "execution_count": 19,
   "metadata": {
    "collapsed": false
   },
   "outputs": [
    {
     "name": "stdout",
     "output_type": "stream",
     "text": [
      "Day 9.2: 11107527530\n"
     ]
    }
   ],
   "source": [
    "def decompressed_length(line):\n",
    "    start, rest = line.split(\"(\", 1) if \"(\" in line else (line, None)\n",
    "    length = len(start)\n",
    "    if not rest:\n",
    "        return length\n",
    "    compression, rest = rest.split(\")\", 1)\n",
    "    chars, repeat = map(int, compression.split(\"x\"))\n",
    "    length += decompressed_length(rest[:chars]) * repeat\n",
    "    return length + decompressed_length(rest[chars:])\n",
    "\n",
    "with Input(9) as f:\n",
    "    print(\"Day 9.2: {}\".format(decompressed_length(f.read().strip())))"
   ]
  },
  {
   "cell_type": "markdown",
   "metadata": {},
   "source": [
    "## Day 10: Balance Bots\n",
    "You come upon a factory in which many robots are zooming around handing small microchips to each other.\n",
    "\n",
    "Upon closer examination, you notice that each bot only proceeds when it has **two** microchips, and once it does, it gives each one to a different bot or puts it in a marked \"output\" bin. Sometimes, bots take microchips from \"input\" bins, too.\n",
    "\n",
    "Inspecting one of the microchips, it seems like they each contain a single number; the bots must use some logic to decide what to do with each chip. You access the local control computer and download the bots' instructions (your puzzle input).\n",
    "\n",
    "Some of the instructions specify that a specific-valued microchip should be given to a specific bot; the rest of the instructions indicate what a given bot should do with its **lower-value** or **higher-value** chip.\n",
    "\n",
    "For example, consider the following instructions:\n",
    "\n",
    "```\n",
    "value 5 goes to bot 2\n",
    "bot 2 gives low to bot 1 and high to bot 0\n",
    "value 3 goes to bot 1\n",
    "bot 1 gives low to output 1 and high to bot 0\n",
    "bot 0 gives low to output 2 and high to output 0\n",
    "value 2 goes to bot 2\n",
    "```\n",
    "\n",
    "- Initially, bot `1` starts with a value-`3` chip, and bot `2` starts with a value-`2` chip and a value-`5` chip.\n",
    "- Because bot `2` has two microchips, it gives its lower one (`2`) to bot `1` and its higher one (`5`) to bot `0`.\n",
    "- Then, bot `1` has two microchips; it puts the value-`2` chip in output `1` and gives the value-`3` chip to bot `0`.\n",
    "- Finally, bot `0` has two microchips; it puts the `3` in output `2` and the `5` in output `0`.\n",
    "\n",
    "In the end, output bin `0` contains a value-`5` microchip, output bin `1` contains a value-`2` microchip, and output bin `2` contains a value-`3` microchip. In this configuration, bot number `2` is responsible for comparing value-`5` microchips with value-`2` microchips.\n",
    "\n",
    "Based on your instructions, what is the number of the bot that is responsible for comparing value-`61` microchips with value-`17` microchips?"
   ]
  },
  {
   "cell_type": "code",
   "execution_count": 20,
   "metadata": {
    "collapsed": false
   },
   "outputs": [
    {
     "name": "stdout",
     "output_type": "stream",
     "text": [
      "Day 10.1: 56\n"
     ]
    }
   ],
   "source": [
    "# Holder variable for finding the bot that compares '17' with '61'\n",
    "bot_part_1 = None\n",
    "\n",
    "class Output(object):\n",
    "    \"\"\"An output bin\"\"\"\n",
    "\n",
    "    def __init__(self, idx):\n",
    "        self.chips = []\n",
    "        self.idx = idx\n",
    "\n",
    "    def receive_chip(self, value):\n",
    "        self.chips.append(value)\n",
    "\n",
    "\n",
    "class Bot(object):\n",
    "    \"\"\"A Bot ;-)\"\"\"\n",
    "    \n",
    "    def __init__(self, idx):\n",
    "        self.chips = []\n",
    "        self.rule = None\n",
    "        self.idx = idx\n",
    "        pass\n",
    "\n",
    "    def receive_chip(self, value):\n",
    "        global bot_part_1\n",
    "        self.chips.append(value)\n",
    "        self.chips.sort()\n",
    "        if 17 in self.chips and 61 in self.chips and not bot_part_1:\n",
    "            bot_part_1 = self.idx\n",
    "        if len(self.chips) == 2:\n",
    "            self.process()\n",
    "\n",
    "    def assign_rule(self, lower, higher):\n",
    "        self.rule = (lower, higher)\n",
    "        if len(self.chips) == 2:\n",
    "            self.process()\n",
    "\n",
    "    def process(self):\n",
    "        if self.rule:\n",
    "            self.rule[0].receive_chip(self.chips[0])\n",
    "            self.rule[1].receive_chip(self.chips[1])\n",
    "\n",
    "bots = {}\n",
    "outputs = {}\n",
    "\n",
    "\n",
    "def get_actor(actor_idx, actor_type):\n",
    "    if actor_type == \"bot\":\n",
    "        if actor_idx not in bots:\n",
    "            bots[actor_idx] = Bot(actor_idx)\n",
    "        return bots[actor_idx]\n",
    "    else:\n",
    "        if actor_idx not in outputs:\n",
    "            outputs[actor_idx] = Output(actor_idx)\n",
    "        return outputs[actor_idx]\n",
    "\n",
    "\n",
    "with Input(10) as f:\n",
    "    for l in f:\n",
    "        line = l.strip().split()\n",
    "        if line[0] == \"value\":\n",
    "            bot_nr, chip = map(int, (line[5], line[1]))\n",
    "            get_actor(bot_nr, line[4]).receive_chip(chip)\n",
    "        if line[0] == \"bot\":\n",
    "            get_actor(int(line[1]), line[0]).assign_rule(get_actor(int(line[6]), line[5]), get_actor(int(line[11]), line[10]))\n",
    "\n",
    "print(\"Day 10.1: {}\".format(bot_part_1))"
   ]
  },
  {
   "cell_type": "markdown",
   "metadata": {},
   "source": [
    "### Part 2\n",
    "What do you get if you **multiply together the values** of one chip in each of outputs `0`, `1`, and `2`?"
   ]
  },
  {
   "cell_type": "code",
   "execution_count": 21,
   "metadata": {
    "collapsed": false
   },
   "outputs": [
    {
     "name": "stdout",
     "output_type": "stream",
     "text": [
      "Day 10.2: 7847\n"
     ]
    }
   ],
   "source": [
    "print(\"Day 10.2: {}\".format(outputs[0].chips[0] * outputs[1].chips[0] * outputs[2].chips[0]))"
   ]
  },
  {
   "cell_type": "markdown",
   "metadata": {},
   "source": [
    "## Day 11: Radioisotope Thermoelectric Generators\n",
    "You come upon a column of four floors that have been entirely sealed off from the rest of the building except for a small dedicated lobby. There are some radiation warnings and a big sign which reads \"Radioisotope Testing Facility\".\n",
    "\n",
    "According to the project status board, this facility is currently being used to experiment with Radioisotope Thermoelectric Generators (RTGs, or simply \"generators\") that are designed to be paired with specially-constructed microchips. Basically, an RTG is a highly radioactive rock that generates electricity through heat.\n",
    "\n",
    "The experimental RTGs have poor radiation containment, so they're dangerously radioactive. The chips are prototypes and don't have normal radiation shielding, but they do have the ability to **generate an electromagnetic radiation shield when powered**. Unfortunately, they can only be powered by their corresponding RTG. An RTG powering a microchip is still dangerous to other microchips.\n",
    "\n",
    "In other words, if a chip is ever left in the same area as another RTG, and it's not connected to its own RTG, the chip will be **fried**. Therefore, it is assumed that you will follow procedure and keep chips connected to their corresponding RTG when they're in the same room, and away from other RTGs otherwise.\n",
    "\n",
    "These microchips sound very interesting and useful to your current activities, and you'd like to try to retrieve them. The fourth floor of the facility has an assembling machine which can make a self-contained, shielded computer for you to take with you - that is, if you can bring it all of the RTGs and microchips.\n",
    "\n",
    "Within the radiation-shielded part of the facility (in which it's safe to have these pre-assembly RTGs), there is an elevator that can move between the four floors. Its capacity rating means it can carry at most yourself and two RTGs or microchips in any combination. (They're rigged to some heavy diagnostic equipment - the assembling machine will detach it for you.) As a security measure, the elevator will only function if it contains at least one RTG or microchip. The elevator always stops on each floor to recharge, and this takes long enough that the items within it and the items on that floor can irradiate each other. (You can prevent this if a Microchip and its Generator end up on the same floor in this way, as they can be connected while the elevator is recharging.)\n",
    "\n",
    "You make some notes of the locations of each component of interest (your puzzle input). Before you don a hazmat suit and start moving things around, you'd like to have an idea of what you need to do.\n",
    "\n",
    "When you enter the containment area, you and the elevator will start on the first floor.\n",
    "\n",
    "For example, suppose the isolated area has the following arrangement:\n",
    "\n",
    "```\n",
    "The first floor contains a hydrogen-compatible microchip and a lithium-compatible microchip.\n",
    "The second floor contains a hydrogen generator.\n",
    "The third floor contains a lithium generator.\n",
    "The fourth floor contains nothing relevant.\n",
    "```\n",
    "\n",
    "As a diagram (`F#` for a Floor number, `E` for Elevator, `H` for Hydrogen, `L` for Lithium, `M` for Microchip, and `G` for Generator), the initial state looks like this:\n",
    "\n",
    "```\n",
    "F4 .  .  .  .  .  \n",
    "F3 .  .  .  LG .  \n",
    "F2 .  HG .  .  .  \n",
    "F1 E  .  HM .  LM \n",
    "```\n",
    "\n",
    "Then, to get everything up to the assembling machine on the fourth floor, the following steps could be taken:\n",
    "\n",
    "- Bring the Hydrogen-compatible Microchip to the second floor, which is safe because it can get power from the Hydrogen Generator:\n",
    "```\n",
    "F4 .  .  .  .  .  \n",
    "F3 .  .  .  LG .  \n",
    "F2 E  HG HM .  .  \n",
    "F1 .  .  .  .  LM \n",
    "```\n",
    "- Bring both Hydrogen-related items to the third floor, which is safe because the Hydrogen-compatible microchip is getting power from its generator:\n",
    "```\n",
    "F4 .  .  .  .  .  \n",
    "F3 E  HG HM LG .  \n",
    "F2 .  .  .  .  .  \n",
    "F1 .  .  .  .  LM \n",
    "```\n",
    "- Leave the Hydrogen Generator on floor three, but bring the Hydrogen-compatible Microchip back down with you so you can still use the elevator:\n",
    "```\n",
    "F4 .  .  .  .  .  \n",
    "F3 .  HG .  LG .  \n",
    "F2 E  .  HM .  .  \n",
    "F1 .  .  .  .  LM \n",
    "```\n",
    "- At the first floor, grab the Lithium-compatible Microchip, which is safe because Microchips don't affect each other:\n",
    "```\n",
    "F4 .  .  .  .  .  \n",
    "F3 .  HG .  LG .  \n",
    "F2 .  .  .  .  .  \n",
    "F1 E  .  HM .  LM \n",
    "```\n",
    "- Bring both Microchips up one floor, where there is nothing to fry them:\n",
    "```\n",
    "F4 .  .  .  .  .  \n",
    "F3 .  HG .  LG .  \n",
    "F2 E  .  HM .  LM \n",
    "F1 .  .  .  .  .  \n",
    "```\n",
    "- Bring both Microchips up again to floor three, where they can be temporarily connected to their corresponding generators while the elevator recharges, preventing either of them from being fried:\n",
    "```\n",
    "F4 .  .  .  .  .  \n",
    "F3 E  HG HM LG LM \n",
    "F2 .  .  .  .  .  \n",
    "F1 .  .  .  .  .  \n",
    "```\n",
    "- Bring both Microchips to the fourth floor:\n",
    "```\n",
    "F4 E  .  HM .  LM \n",
    "F3 .  HG .  LG .  \n",
    "F2 .  .  .  .  .  \n",
    "F1 .  .  .  .  .  \n",
    "```\n",
    "- Leave the Lithium-compatible microchip on the fourth floor, but bring the Hydrogen-compatible one so you can still use the elevator; this is safe because although the Lithium Generator is on the destination floor, you can connect Hydrogen-compatible microchip to the Hydrogen Generator there:\n",
    "```\n",
    "F4 .  .  .  .  LM \n",
    "F3 E  HG HM LG .  \n",
    "F2 .  .  .  .  .  \n",
    "F1 .  .  .  .  .  \n",
    "```\n",
    "- Bring both Generators up to the fourth floor, which is safe because you can connect the Lithium-compatible Microchip to the Lithium Generator upon arrival:\n",
    "```\n",
    "F4 E  HG .  LG LM \n",
    "F3 .  .  HM .  .  \n",
    "F2 .  .  .  .  .  \n",
    "F1 .  .  .  .  .  \n",
    "```\n",
    "- Bring the Lithium Microchip with you to the third floor so you can use the elevator:\n",
    "```\n",
    "F4 .  HG .  LG .  \n",
    "F3 E  .  HM .  LM \n",
    "F2 .  .  .  .  .  \n",
    "F1 .  .  .  .  .  \n",
    "```\n",
    "- Bring both Microchips to the fourth floor:\n",
    "```\n",
    "F4 E  HG HM LG LM \n",
    "F3 .  .  .  .  .  \n",
    "F2 .  .  .  .  .  \n",
    "F1 .  .  .  .  .  \n",
    "```\n",
    "\n",
    "In this arrangement, it takes `11` steps to collect all of the objects at the fourth floor for assembly. (Each elevator stop counts as one step, even if nothing is added to or removed from it.)\n",
    "\n",
    "In your situation, what is the **minimum number of steps** required to bring all of the objects to the fourth floor?"
   ]
  },
  {
   "cell_type": "code",
   "execution_count": 45,
   "metadata": {
    "collapsed": false
   },
   "outputs": [
    {
     "name": "stdout",
     "output_type": "stream",
     "text": [
      "Day 11.1: 47\n",
      "CPU times: user 293 ms, sys: 1.64 ms, total: 295 ms\n",
      "Wall time: 295 ms\n"
     ]
    }
   ],
   "source": [
    "State = namedtuple('State', ['elevator', 'locations'])\n",
    "Element = namedtuple('Element', ['chip', 'generator'])\n",
    "\n",
    "chip_re = re.compile(\"([a-z]+)-compatible microchip\")\n",
    "generator_re = re.compile(\"([a-z]+) generator\")\n",
    "solved_element = Element(3, 3)\n",
    "\n",
    "@lru_cache(maxsize=None)\n",
    "def distance(state):\n",
    "    return 3 - state.elevator + sum(map(lambda e: 6 - e[0] - e[1], state.locations))\n",
    "\n",
    "def update_chip(el, delta):\n",
    "    return Element(el.chip + delta, el.generator)\n",
    "\n",
    "def update_generator(el, delta):\n",
    "    return Element(el.chip, el.generator + delta)\n",
    "\n",
    "def is_valid(state):\n",
    "    if not (0 <= state.elevator <= 3):\n",
    "        return False\n",
    "    for e in state.locations:\n",
    "        if e.chip == e.generator:\n",
    "            continue\n",
    "        for f in state.locations:\n",
    "            if e != f and e.chip == f.generator:\n",
    "                return False\n",
    "    return True\n",
    "\n",
    "def move(state, i, f_i, j=None, f_j=None):\n",
    "    for d in [-1, 1]:\n",
    "        locs = list(state.locations)\n",
    "        locs[i] = f_i(locs[i], d)\n",
    "        if j:\n",
    "            locs[j] = f_j(locs[j], d)\n",
    "        s = State(state.elevator + d, tuple(sorted(locs)))\n",
    "        if is_valid(s):\n",
    "            yield s\n",
    "\n",
    "def next_states(state):\n",
    "    for i in range(len(state.locations)):\n",
    "        if state.locations[i].chip == state.elevator:\n",
    "            yield from move(state, i, update_chip)\n",
    "            if state.locations[i].generator == state.elevator:\n",
    "                yield from move(state, i, update_chip, i, update_generator)\n",
    "            for j in range(i + 1, len(state.locations)):\n",
    "                if state.locations[j].chip == state.elevator:\n",
    "                    yield from move(state, i, update_chip, j, update_chip)\n",
    "        if state.locations[i].generator == state.elevator:\n",
    "            yield from move(state, i, update_generator)\n",
    "            for j in range(i + 1, len(state.locations)):\n",
    "                if state.locations[j].generator == state.elevator:\n",
    "                    yield from move(state, i, update_generator, j, update_generator)\n",
    "\n",
    "start_elements = {}\n",
    "\n",
    "with Input(11) as f:\n",
    "    lines = f.readlines()\n",
    "    for i in range(len(lines)):\n",
    "        chips = chip_re.findall(lines[i])\n",
    "        generators = generator_re.findall(lines[i])\n",
    "        for chip in chips:\n",
    "            if chip not in start_elements:\n",
    "                start_elements[chip] = Element(i, None)\n",
    "            else:\n",
    "                start_elements[chip] = Element(i, start_elements[chip].generator)\n",
    "        for generator in generators:\n",
    "            if generator not in start_elements:\n",
    "                start_elements[generator] = Element(None, i)\n",
    "            else:\n",
    "                start_elements[generator] = Element(start_elements[generator].chip, i)\n",
    "\n",
    "initial_state = State(0, tuple(sorted(list(start_elements.values()))))\n",
    "%time print(\"Day 11.1: {}\".format(path_length(next(astar(initial_state, next_states, distance))) - 1))"
   ]
  },
  {
   "cell_type": "markdown",
   "metadata": {},
   "source": [
    "### Part 2\n",
    "You step into the cleanroom separating the lobby from the isolated area and put on the hazmat suit.\n",
    "\n",
    "Upon entering the isolated containment area, however, you notice some extra parts on the first floor that weren't listed on the record outside:\n",
    "\n",
    "- An elerium generator.\n",
    "- An elerium-compatible microchip.\n",
    "- A dilithium generator.\n",
    "- A dilithium-compatible microchip.\n",
    "\n",
    "These work just like the other generators and microchips. You'll have to get them up to assembly as well.\n",
    "\n",
    "What is the **minimum number of steps** required to bring all of the objects, including these four new ones, to the fourth floor?"
   ]
  },
  {
   "cell_type": "code",
   "execution_count": 46,
   "metadata": {
    "collapsed": false
   },
   "outputs": [
    {
     "name": "stdout",
     "output_type": "stream",
     "text": [
      "Day 11.2: 71\n",
      "CPU times: user 1.84 s, sys: 5.7 ms, total: 1.84 s\n",
      "Wall time: 1.85 s\n"
     ]
    }
   ],
   "source": [
    "start_elements['elerium'] = Element(0, 0)\n",
    "start_elements['dilithium'] = Element(0, 0)\n",
    "initial_state = State(0, tuple(sorted(list(start_elements.values()))))\n",
    "%time print(\"Day 11.2: {}\".format(path_length(next(astar(initial_state, next_states, distance))) - 1))"
   ]
  },
  {
   "cell_type": "markdown",
   "metadata": {},
   "source": [
    "## Day 12: Leonardo's Monorail\n",
    "You finally reach the top floor of this building: a garden with a slanted glass ceiling. Looks like there are no more stars to be had.\n",
    "\n",
    "While sitting on a nearby bench amidst some tiger lilies, you manage to decrypt some of the files you extracted from the servers downstairs.\n",
    "\n",
    "According to these documents, Easter Bunny HQ isn't just this building - it's a collection of buildings in the nearby area. They're all connected by a local monorail, and there's another building not far from here! Unfortunately, being night, the monorail is currently not operating.\n",
    "\n",
    "You remotely connect to the monorail control systems and discover that the boot sequence expects a password. The password-checking logic (your puzzle input) is easy to extract, but the code it uses is strange: it's assembunny code designed for the new computer you just assembled. You'll have to execute the code and get the password.\n",
    "\n",
    "The assembunny code you've extracted operates on four registers (`a`, `b`, `c`, and `d`) that start at `0` and can hold any integer. However, it seems to make use of only a few instructions:\n",
    "\n",
    "- `cpy x y` **copies** `x` (either an integer or the value of a register) into register `y`.\n",
    "- `inc x` **increases** the value of register `x` by one.\n",
    "- `dec x` **decreases** the value of register `x` by one.\n",
    "- `jnz x y` **jumps** to an instruction `y` away (positive means forward; negative means backward), but only if `x` is not zero.\n",
    "\n",
    "The `jnz` instruction moves relative to itself: an offset of `-1` would continue at the previous instruction, while an offset of `2` would **skip over** the next instruction.\n",
    "\n",
    "For example:\n",
    "```\n",
    "cpy 41 a\n",
    "inc a\n",
    "inc a\n",
    "dec a\n",
    "jnz a 2\n",
    "dec a\n",
    "```\n",
    "The above code would set register `a` to `41`, increase its value by `2`, decrease its value by `1`, and then skip the last `dec a` (because `a` is not zero, so the `jnz a 2` skips it), leaving register `a` at `42`. When you move past the last instruction, the program halts.\n",
    "\n",
    "After executing the assembunny code in your puzzle input, **what value is left in register `a`**?"
   ]
  },
  {
   "cell_type": "code",
   "execution_count": 24,
   "metadata": {
    "collapsed": false
   },
   "outputs": [
    {
     "name": "stdout",
     "output_type": "stream",
     "text": [
      "Day 12.1: 318083\n"
     ]
    }
   ],
   "source": [
    "class Computer(object):\n",
    "    def __init__(self, registers={'a': 0, 'b': 0, 'c': 0, 'd': 0}):\n",
    "        self.registers = registers\n",
    "        self.pointer = 0\n",
    "\n",
    "    def value(self, v):\n",
    "        return self.registers[v] if v in self.registers else int(v)\n",
    "\n",
    "    def smart_add_from_reg(self, x):\n",
    "        if len(self.program) > self.pointer + 2:\n",
    "            next_op, next_args = self.program[self.pointer + 1]\n",
    "            if next_op == 'dec':\n",
    "                sec_op, sec_args = self.program[self.pointer + 2]\n",
    "                if sec_op == 'jnz' and sec_args == (next_args[0], '-2'):\n",
    "                    self.registers[x] += self.registers[next_args[0]]\n",
    "                    self.registers[next_args[0]] = 0\n",
    "                    self.pointer += 2\n",
    "                    return True\n",
    "        return False\n",
    "\n",
    "    def inc(self, x):\n",
    "        if not self.smart_add_from_reg(x):\n",
    "            self.registers[x] += 1\n",
    "\n",
    "    def dec(self, x):\n",
    "        self.registers[x] -= 1\n",
    "\n",
    "    def cpy(self, x, y):\n",
    "        self.registers[y] = self.value(x)\n",
    "\n",
    "    def jnz(self, x, y):\n",
    "        if self.value(x):\n",
    "            self.pointer += self.value(y) - 1  # The last increment is done by the program loop\n",
    "\n",
    "    def load(self, program):\n",
    "        \"\"\"Load the program, split the strings into a tuple (operation, args) where args is another tuple\"\"\"\n",
    "        self.program = [(i[0], tuple(i[1:])) for i in [instruction.strip().split() for instruction in program]]\n",
    "        return self\n",
    "\n",
    "    def execute(self, debug=False):\n",
    "        \"\"\"Executes a program, which is a list of instructions\"\"\"\n",
    "        while self.pointer < len(self.program):\n",
    "            op, args = self.program[self.pointer]\n",
    "            if debug:\n",
    "                print(\"{:3}: {:25} {}\".format(self.pointer, (op, args), self.registers))\n",
    "            getattr(self, op)(*args)\n",
    "            self.pointer += 1\n",
    "        return self\n",
    "\n",
    "\n",
    "with open('day12.in', 'r') as f:\n",
    "    program = f.readlines()\n",
    "\n",
    "print(\"Day 12.1: {}\".format(Computer().load(program).execute().registers['a']))"
   ]
  },
  {
   "cell_type": "markdown",
   "metadata": {},
   "source": [
    "### Part 2\n",
    "As you head down the fire escape to the monorail, you notice it didn't start; register `c` needs to be initialized to the position of the ignition key.\n",
    "\n",
    "If you instead **initialize register `c` to be `1`**, what value is now left in register `a`?"
   ]
  },
  {
   "cell_type": "code",
   "execution_count": 25,
   "metadata": {
    "collapsed": false
   },
   "outputs": [
    {
     "name": "stdout",
     "output_type": "stream",
     "text": [
      "Day 12.2: 9227737\n"
     ]
    }
   ],
   "source": [
    "print(\"Day 12.2: {}\".format(Computer({'a': 0, 'b': 0, 'c': 1, 'd': 0}).load(program).execute().registers['a']))"
   ]
  },
  {
   "cell_type": "markdown",
   "metadata": {},
   "source": [
    "## Day 13: A Maze of Twisty Little Cubicles\n",
    "You arrive at the first floor of this new building to discover a much less welcoming environment than the shiny atrium of the last one. Instead, you are in a maze of twisty little cubicles, all alike.\n",
    "\n",
    "Every location in this area is addressed by a pair of non-negative integers (`x,y`). Each such coordinate is either a wall or an open space. You can't move diagonally. The cube maze starts at `0,0` and seems to extend infinitely toward **positive** `x` and `y`; negative values are **invalid**, as they represent a location outside the building. You are in a small waiting area at 1,1.\n",
    "\n",
    "While it seems chaotic, a nearby morale-boosting poster explains, the layout is actually quite logical. You can determine whether a given `x,y` coordinate will be a wall or an open space using a simple system:\n",
    "\n",
    "- Find `x*x + 3*x + 2*x*y + y + y*y`.\n",
    "- Add the office designer's favorite number (your puzzle input).\n",
    "- Find the binary representation of that sum; count the **number** of bits that are `1`.\n",
    "  - If the number of bits that are `1` is **even**, it's an **open space**.\n",
    "  - If the number of bits that are `1` is **odd**, it's a **wall**.\n",
    "\n",
    "For example, if the office designer's favorite number were `10`, drawing walls as `#` and open spaces as `.`, the corner of the building containing `0,0` would look like this:\n",
    "\n",
    "```\n",
    "  0123456789\n",
    "0 .#.####.##\n",
    "1 ..#..#...#\n",
    "2 #....##...\n",
    "3 ###.#.###.\n",
    "4 .##..#..#.\n",
    "5 ..##....#.\n",
    "6 #...##.###\n",
    "```\n",
    "\n",
    "Now, suppose you wanted to reach `7,4`. The shortest route you could take is marked as `O`:\n",
    "\n",
    "```\n",
    "  0123456789\n",
    "0 .#.####.##\n",
    "1 .O#..#...#\n",
    "2 #OOO.##...\n",
    "3 ###O#.###.\n",
    "4 .##OO#OO#.\n",
    "5 ..##OOO.#.\n",
    "6 #...##.###\n",
    "```\n",
    "\n",
    "Thus, reaching `7,4` would take a minimum of `11` steps (starting from your current location, `1,1`).\n",
    "\n",
    "What is the **fewest number of steps required** for you to reach `31,39`?\n",
    "\n",
    "Your puzzle input is: `1352`"
   ]
  },
  {
   "cell_type": "code",
   "execution_count": 26,
   "metadata": {
    "collapsed": false
   },
   "outputs": [
    {
     "name": "stdout",
     "output_type": "stream",
     "text": [
      "Day 13.1: 0\n"
     ]
    }
   ],
   "source": [
    "inp = 1352\n",
    "\n",
    "def is_wall(point):\n",
    "    x, y = point\n",
    "    nr = x * x + 3 * x + 2 * x * y + y + y * y\n",
    "    return bin(nr + inp).count('1') % 2\n",
    "\n",
    "def open_neighbours(point):\n",
    "    return [n for n in neighbours4(point) if not is_wall(n) and n[0] >= 0 and n[1] >= 0]\n",
    "\n",
    "def distance(point):\n",
    "    return manhattan_distance((31, 39), point)\n",
    "\n",
    "print(\"Day 13.1: {}\".format(path_length(next(astar((1, 1), open_neighbours, distance)) - 1)))"
   ]
  },
  {
   "cell_type": "markdown",
   "metadata": {},
   "source": [
    "### Part 2\n",
    "**How many locations** (distinct `x,y` coordinates, including your starting location) can you reach in at most `50` steps?"
   ]
  },
  {
   "cell_type": "code",
   "execution_count": 27,
   "metadata": {
    "collapsed": false
   },
   "outputs": [
    {
     "name": "stdout",
     "output_type": "stream",
     "text": [
      "Day 13.2: 135\n"
     ]
    }
   ],
   "source": [
    "# BFS search which stops at length 50\n",
    "def bfs_50(initial_state, f_next):\n",
    "    frontier = [(0, initial_state)]\n",
    "    seen_states = set([initial_state])\n",
    "    while frontier:\n",
    "        path_length, state = heappop(frontier)\n",
    "        if path_length >= 50:\n",
    "            return seen_states\n",
    "        for next_state in f_next(state):\n",
    "            if next_state in seen_states:\n",
    "                continue\n",
    "            heappush(frontier, (path_length + 1, next_state))\n",
    "            seen_states.add(next_state)\n",
    "\n",
    "print(\"Day 13.2: {}\".format(len(bfs_50((1, 1), open_neighbours))))"
   ]
  },
  {
   "cell_type": "markdown",
   "metadata": {
    "collapsed": true
   },
   "source": [
    "## Day 14: One-Time Pad\n",
    "In order to communicate securely with Santa while you're on this mission, you've been using a one-time pad that you generate using a pre-agreed algorithm. Unfortunately, you've run out of keys in your one-time pad, and so you need to generate some more.\n",
    "\n",
    "To generate keys, you first get a stream of random data by taking the MD5 of a pre-arranged salt (your puzzle input) and an increasing integer index (starting with `0`, and represented in decimal); the resulting MD5 hash should be represented as a string of **lowercase** hexadecimal digits.\n",
    "\n",
    "However, not all of these MD5 hashes are **keys**, and you need 64 new keys for your one-time pad. A hash is a key **only if**:\n",
    "\n",
    "- It contains **three** of the same character in a row, like `777`. Only consider the first such triplet in a hash.\n",
    "- One of the next `1000` hashes in the stream contains that same character **five** times in a row, like `77777`.\n",
    "\n",
    "Considering future hashes for five-of-a-kind sequences does not cause those hashes to be skipped; instead, regardless of whether the current hash is a key, always resume testing for keys starting with the very next hash.\n",
    "\n",
    "For example, if the pre-arranged salt is `abc`:\n",
    "\n",
    "- The first index which produces a triple is `18`, because the MD5 hash of `abc18` contains `...cc38887a5....` However, index 18 does not count as a key for your one-time pad, because none of the next thousand hashes (index `19` through index `1018`) contain `88888`.\n",
    "- The next index which produces a triple is `39`; the hash of `abc39` contains `eee`. It is also the first key: one of the next thousand hashes (the one at index `816`) contains `eeeee`.\n",
    "- None of the next six triples are keys, but the one after that, at index `92`, is: it contains `999` and index `200` contains `99999`.\n",
    "- Eventually, index `22728` meets all of the criteria to generate the `64`th key.\n",
    "\n",
    "So, using our example salt of `abc`, index `22728` produces the `64`th key.\n",
    "\n",
    "Given the actual salt in your puzzle input, **what index** produces your `64`th one-time pad key?\n",
    "\n",
    "Your puzzle input is: `jlmsuwbz`"
   ]
  },
  {
   "cell_type": "code",
   "execution_count": 28,
   "metadata": {
    "collapsed": false
   },
   "outputs": [
    {
     "name": "stdout",
     "output_type": "stream",
     "text": [
      "Day 14.1: 35186\n"
     ]
    }
   ],
   "source": [
    "hasher = md5('jlmsuwbz'.encode('utf-8'))\n",
    "\n",
    "@lru_cache(maxsize=None)\n",
    "def pad_func(idx):\n",
    "    copy = hasher.copy()\n",
    "    copy.update(str(idx).encode('utf-8'))\n",
    "    return copy.hexdigest()\n",
    "    \n",
    "def one_time_pad(f_pad):\n",
    "    idx = 0\n",
    "    while True:\n",
    "        digest = f_pad(idx)\n",
    "        for a, b, c in window(digest, 3):\n",
    "            if a == b == c:\n",
    "                for i in range(idx + 1, idx + 1000):\n",
    "                    n = f_pad(i)\n",
    "                    if 5 * a in n:\n",
    "                        yield idx\n",
    "                        found = True\n",
    "                        break\n",
    "                break\n",
    "        idx += 1\n",
    "\n",
    "print(\"Day 14.1: {}\".format([i for _, i in zip(range(64), one_time_pad(pad_func))][-1]))"
   ]
  },
  {
   "cell_type": "markdown",
   "metadata": {},
   "source": [
    "### Part 2\n",
    "Of course, in order to make this process even more secure, you've also implemented key stretching.\n",
    "\n",
    "Key stretching forces attackers to spend more time generating hashes. Unfortunately, it forces everyone else to spend more time, too.\n",
    "\n",
    "To implement key stretching, whenever you generate a hash, before you use it, you first find the MD5 hash of **that** hash, then the MD5 hash of that hash, and so on, a total of **`2016` additional hashings**. Always use lowercase hexadecimal representations of hashes.\n",
    "\n",
    "For example, to find the stretched hash for index `0` and salt `abc`:\n",
    "\n",
    "- Find the MD5 hash of `abc0`: `577571be4de9dcce85a041ba0410f29f`.\n",
    "- Then, find the MD5 hash of that hash: `eec80a0c92dc8a0777c619d9bb51e910`.\n",
    "- Then, find the MD5 hash of that hash: `16062ce768787384c81fe17a7a60c7e3`.\n",
    "- ...repeat many times...\n",
    "- Then, find the MD5 hash of that hash: `a107ff634856bb300138cac6568c0f24`.\n",
    "\n",
    "So, the stretched hash for index `0` in this situation is `a107ff....` In the end, you find the original hash (one use of MD5), then find the hash-of-the-previous-hash `2016` times, for a total of `2017` uses of MD5.\n",
    "\n",
    "The rest of the process remains the same, but now the keys are entirely different. Again for salt `abc`:\n",
    "\n",
    "- The first triple (`222`, at index `5`) has no matching `22222` in the next thousand hashes.\n",
    "- The second triple (`eee`, at index `10`) hash a matching `eeeee` at index `89`, and so it is the first key.\n",
    "- Eventually, index `22551` produces the `64`th key (triple `fff` with matching `fffff` at index `22859`.\n",
    "\n",
    "Given the actual salt in your puzzle input and using `2016` extra MD5 calls of key stretching, **what index** now produces your `64`th one-time pad key?"
   ]
  },
  {
   "cell_type": "code",
   "execution_count": 29,
   "metadata": {
    "collapsed": false
   },
   "outputs": [
    {
     "name": "stdout",
     "output_type": "stream",
     "text": [
      "Day 14.2: 22429\n"
     ]
    }
   ],
   "source": [
    "@lru_cache(maxsize=None)\n",
    "def stretch_pad(idx):\n",
    "    digest = pad_func(idx)\n",
    "    for _ in range(2016):\n",
    "        digest = md5(digest.encode('utf-8')).hexdigest()\n",
    "    return digest\n",
    "\n",
    "print(\"Day 14.2: {}\".format([i for _, i in zip(range(64), one_time_pad(stretch_pad))][-1]))"
   ]
  },
  {
   "cell_type": "markdown",
   "metadata": {},
   "source": [
    "## Day 15: Timing is Everything\n",
    "The halls open into an interior plaza containing a large kinetic sculpture. The sculpture is in a sealed enclosure and seems to involve a set of identical spherical capsules that are carried to the top and allowed to bounce through the maze of spinning pieces.\n",
    "\n",
    "Part of the sculpture is even interactive! When a button is pressed, a capsule is dropped and tries to fall through slots in a set of rotating discs to finally go through a little hole at the bottom and come out of the sculpture. If any of the slots aren't aligned with the capsule as it passes, the capsule bounces off the disc and soars away. You feel compelled to get one of those capsules.\n",
    "\n",
    "The discs pause their motion each second and come in different sizes; they seem to each have a fixed number of positions at which they stop. You decide to call the position with the slot `0`, and count up for each position it reaches next.\n",
    "\n",
    "Furthermore, the discs are spaced out so that after you push the button, one second elapses before the first disc is reached, and one second elapses as the capsule passes from one disc to the one below it. So, if you push the button at `time=100`, then the capsule reaches the top disc at `time=101`, the second disc at `time=102`, the third disc at `time=103`, and so on.\n",
    "\n",
    "The button will only drop a capsule at an integer time - no fractional seconds allowed.\n",
    "\n",
    "For example, at `time=0`, suppose you see the following arrangement:\n",
    "\n",
    "```\n",
    "Disc #1 has 5 positions; at time=0, it is at position 4.\n",
    "Disc #2 has 2 positions; at time=0, it is at position 1.\n",
    "```\n",
    "\n",
    "If you press the button exactly at `time=0`, the capsule would start to fall; it would reach the first disc at `time=1`. Since the first disc was at position `4` at `time=0`, by `time=1` it has ticked one position forward. As a five-position disc, the next position is `0`, and the capsule falls through the slot.\n",
    "\n",
    "Then, at `time=2`, the capsule reaches the second disc. The second disc has ticked forward two positions at this point: it started at position `1`, then continued to position `0`, and finally ended up at position `1` again. Because there's only a slot at position `0`, the capsule bounces away.\n",
    "\n",
    "If, however, you wait until `time=5` to push the button, then when the capsule reaches each disc, the first disc will have ticked forward `5+1 = 6` times (to position `0`), and the second disc will have ticked forward `5+2 = 7` times (also to position `0`). In this case, the capsule would fall through the discs and come out of the machine.\n",
    "\n",
    "However, your situation has more than two discs; you've noted their positions in your puzzle input. What is the **first time you can press the button** to get a capsule?"
   ]
  },
  {
   "cell_type": "code",
   "execution_count": 30,
   "metadata": {
    "collapsed": false
   },
   "outputs": [
    {
     "name": "stdout",
     "output_type": "stream",
     "text": [
      "Day 15.1: 317371\n"
     ]
    }
   ],
   "source": [
    "disc_r = re.compile(\"Disc #([0-9]+) has ([0-9]+) positions; at time=0, it is at position ([0-9]+).\")\n",
    "discs = []\n",
    "\n",
    "def disc_as_lambda(size, dist, offset):\n",
    "    return lambda t: ((t + dist + offset) % size) == 0\n",
    "\n",
    "def solve(discs):\n",
    "    s_0, d_0, o_0 = discs[0]\n",
    "    lambdas = [disc_as_lambda(*disc) for disc in discs]\n",
    "    t = s_0 - d_0 - o_0\n",
    "    while True:\n",
    "        if all(l(t) for l in lambdas):\n",
    "            return t\n",
    "        t += s_0\n",
    "\n",
    "with Input(15) as f:\n",
    "    for l in f:\n",
    "        m = disc_r.match(l)\n",
    "        discs.append((int(m.group(2)), int(m.group(1)), int(m.group(3))))\n",
    "\n",
    "print(\"Day 15.1: {}\".format(solve(discs)))"
   ]
  },
  {
   "cell_type": "markdown",
   "metadata": {},
   "source": [
    "### Part 2\n",
    "\n",
    "After getting the first capsule (it contained a star! what great fortune!), the machine detects your success and begins to rearrange itself.\n",
    "\n",
    "When it's done, the discs are back in their original configuration as if it were `time=0` again, but a new disc with `11` positions and starting at position `0` has appeared exactly one second below the previously-bottom disc.\n",
    "\n",
    "With this new disc, and counting again starting from `time=0` with the configuration in your puzzle input, what is **the first time you can press the button** to get another capsule?"
   ]
  },
  {
   "cell_type": "code",
   "execution_count": 31,
   "metadata": {
    "collapsed": false
   },
   "outputs": [
    {
     "name": "stdout",
     "output_type": "stream",
     "text": [
      "Day 15.2: 2080951\n"
     ]
    }
   ],
   "source": [
    "discs.append((11, len(discs) + 1, 0))\n",
    "print(\"Day 15.2: {}\".format(solve(discs)))"
   ]
  },
  {
   "cell_type": "markdown",
   "metadata": {},
   "source": [
    "## Day 16: Dragon Checksum\n",
    "You're done scanning this part of the network, but you've left traces of your presence. You need to overwrite some disks with random-looking data to cover your tracks and update the local security system with a new checksum for those disks.\n",
    "\n",
    "For the data to not be suspicious, it needs to have certain properties; purely random data will be detected as tampering. To generate appropriate random data, you'll need to use a modified dragon curve.\n",
    "\n",
    "Start with an appropriate initial state (your puzzle input). Then, so long as you don't have enough data yet to fill the disk, repeat the following steps:\n",
    "\n",
    "- Call the data you have at this point \"a\".\n",
    "- Make a copy of \"a\"; call this copy \"b\".\n",
    "- Reverse the order of the characters in \"b\".\n",
    "- In \"b\", replace all instances of `0` with `1` and all `1`s with `0`.\n",
    "- The resulting data is \"a\", then a single `0`, then \"b\".\n",
    "\n",
    "For example, after a single step of this process,\n",
    "\n",
    "- `1` becomes `100`.\n",
    "- `0` becomes `001`.\n",
    "- `11111` becomes `11111000000`.\n",
    "- `111100001010` becomes `1111000010100101011110000`.\n",
    "\n",
    "Repeat these steps until you have enough data to fill the desired disk.\n",
    "\n",
    "Once the data has been generated, you also need to create a checksum of that data. Calculate the checksum **only** for the data that fits on the disk, even if you generated more data than that in the previous step.\n",
    "\n",
    "The checksum for some given data is created by considering each non-overlapping **pair** of characters in the input data. If the two characters match (`00` or `11`), the next checksum character is a `1`. If the characters do not match (`01` or `10`), the next checksum character is a `0`. This should produce a new string which is exactly half as long as the original. If the length of the checksum is **even**, repeat the process until you end up with a checksum with an **odd** length.\n",
    "\n",
    "For example, suppose we want to fill a disk of length `12`, and when we finally generate a string of at least length `12`, the first `12` characters are `110010110100`. To generate its checksum:\n",
    "\n",
    "- Consider each pair: `11`, `00`, `10`, `11`, `01`, `00`.\n",
    "- These are same, same, different, same, different, same, producing `110101`.\n",
    "- The resulting string has length `6`, which is **even**, so we repeat the process.\n",
    "- The pairs are `11` (same), `01` (different), `01` (different).\n",
    "- This produces the checksum `100`, which has an **odd** length, so we stop.\n",
    "\n",
    "Therefore, the checksum for `110010110100` is `100`.\n",
    "\n",
    "Combining all of these steps together, suppose you want to fill a disk of length `20` using an initial state of `10000`:\n",
    "\n",
    "- Because `10000` is too short, we first use the modified dragon curve to make it longer.\n",
    "- After one round, it becomes `10000011110` (`11` characters), still too short.\n",
    "- After two rounds, it becomes `10000011110010000111110` (`23` characters), which is enough.\n",
    "- Since we only need `20`, but we have `23`, we get rid of all but the first `20` characters: `10000011110010000111`.\n",
    "- Next, we start calculating the checksum; after one round, we have `0111110101`, which `10` characters long (**even**), so we continue.\n",
    "- After two rounds, we have `01100`, which is `5` characters long (**odd**), so we are done.\n",
    "\n",
    "In this example, the correct checksum would therefore be `01100`.\n",
    "\n",
    "The first disk you have to fill has length `272`. Using the initial state in your puzzle input, **what is the correct checksum**?\n",
    "\n",
    "Your puzzle input is: `01000100010010111`"
   ]
  },
  {
   "cell_type": "code",
   "execution_count": 32,
   "metadata": {
    "collapsed": false
   },
   "outputs": [
    {
     "name": "stdout",
     "output_type": "stream",
     "text": [
      "Day 16.1: 10010010110011010\n"
     ]
    }
   ],
   "source": [
    "def dragon_curve(initial_state, disk_size):\n",
    "    arr = bitarray(initial_state)\n",
    "    while len(arr) < disk_size:\n",
    "        inv = arr.copy()\n",
    "        inv.reverse()\n",
    "        inv.invert()\n",
    "        arr.append(0)\n",
    "        arr.extend(inv)\n",
    "        \n",
    "    arr = arr[:disk_size]\n",
    "    while len(arr) % 2 == 0:\n",
    "        arr = [1 if a == b else 0 for a, b in zip(arr[::2], arr[1::2])]\n",
    "\n",
    "    return ''.join(['0' if not c else '1' for c in arr])\n",
    "\n",
    "print(\"Day 16.1: {}\".format(dragon_curve(\"01000100010010111\", 272)))"
   ]
  },
  {
   "cell_type": "markdown",
   "metadata": {},
   "source": [
    "### Part 2\n",
    "The second disk you have to fill has length `35651584`. Again using the initial state in your puzzle input, **what is the correct checksum** for this disk?"
   ]
  },
  {
   "cell_type": "code",
   "execution_count": 42,
   "metadata": {
    "collapsed": false
   },
   "outputs": [
    {
     "name": "stdout",
     "output_type": "stream",
     "text": [
      "Day 16.2: 01010100101011100\n",
      "CPU times: user 2.97 s, sys: 333 ms, total: 3.3 s\n",
      "Wall time: 3.31 s\n"
     ]
    }
   ],
   "source": [
    "%time print(\"Day 16.2: {}\".format(dragon_curve(\"01000100010010111\", 35651584)))"
   ]
  },
  {
   "cell_type": "markdown",
   "metadata": {},
   "source": [
    "## Day 17: Two Steps Forward\n",
    "You're trying to access a secure vault protected by a `4x4` grid of small rooms connected by doors. You start in the top-left room (marked `S`), and you can access the vault (marked `V`) once you reach the bottom-right room:\n",
    "\n",
    "```\n",
    "#########\n",
    "#S| | | #\n",
    "#-#-#-#-#\n",
    "# | | | #\n",
    "#-#-#-#-#\n",
    "# | | | #\n",
    "#-#-#-#-#\n",
    "# | | |  \n",
    "####### V\n",
    "```\n",
    "\n",
    "Fixed walls are marked with `#`, and doors are marked with `-` or `|`.\n",
    "\n",
    "The doors in your **current room** are either open or closed (and locked) based on the hexadecimal MD5 hash of a passcode (your puzzle input) followed by a sequence of uppercase characters representing the **path you have taken so far** (`U` for up, `D` for down, `L` for left, and `R` for right).\n",
    "\n",
    "Only the first four characters of the hash are used; they represent, respectively, the doors **up, down, left, and right** from your current position. Any `b`, `c`, `d`, `e`, or `f` means that the corresponding door is **open**; any other character (any number or `a`) means that the corresponding door is **closed and locked**.\n",
    "\n",
    "To access the vault, all you need to do is reach the bottom-right room; reaching this room opens the vault and all doors in the maze.\n",
    "\n",
    "For example, suppose the passcode is `hijkl`. Initially, you have taken no steps, and so your path is empty: you simply find the MD5 hash of `hijkl` alone. The first four characters of this hash are `ced9`, which indicate that up is open (`c`), down is open (`e`), left is open (`d`), and right is closed and locked (`9`). Because you start in the top-left corner, there are no \"up\" or \"left\" doors to be open, so your only choice is **down**.\n",
    "\n",
    "Next, having gone only one step (down, or `D`), you find the hash of `hijklD`. This produces `f2bc`, which indicates that you can go back up, left (but that's a wall), or right. Going right means hashing `hijklDR` to get `5745` - all doors closed and locked. However, going **up** instead is worthwhile: even though it returns you to the room you started in, your path would then be `DU`, opening a different set of doors.\n",
    "\n",
    "After going `DU` (and then hashing `hijklDU` to get `528e`), only the right door is open; after going `DUR`, all doors lock. (Fortunately, your actual passcode is not `hijkl`).\n",
    "\n",
    "Passcodes actually used by Easter Bunny Vault Security do allow access to the vault if you know the right path. For example:\n",
    "\n",
    "- If your passcode were `ihgpwlah`, the shortest path would be `DDRRRD`.\n",
    "- With `kglvqrro`, the shortest path would be `DDUDRLRRUDRD`.\n",
    "- With `ulqzkmiv`, the shortest would be `DRURDRUDDLLDLUURRDULRLDUUDDDRR`.\n",
    "\n",
    "Given your vault's passcode, **what is the shortest path** (the actual path, not just the length) to reach the vault?"
   ]
  },
  {
   "cell_type": "code",
   "execution_count": 34,
   "metadata": {
    "collapsed": false
   },
   "outputs": [
    {
     "name": "stdout",
     "output_type": "stream",
     "text": [
      "Day 17.1: RDURRDDLRD\n"
     ]
    }
   ],
   "source": [
    "def dist_from_vault(state):\n",
    "    return manhattan_distance(state[0], (3, 3))\n",
    "\n",
    "def paths(state):\n",
    "    point, m, hasher = state\n",
    "    possibles = [int(c, 16) for c in hasher.hexdigest()[:4]]\n",
    "    if possibles[0] > 10 and point[1] > 0:\n",
    "        h = hasher.copy()\n",
    "        h.update('U'.encode('utf-8'))\n",
    "        yield ((point[0], point[1] - 1), m + 'U', h)\n",
    "    if possibles[1] > 10 and point[1] < 3:\n",
    "        h = hasher.copy()\n",
    "        h.update('D'.encode('utf-8'))\n",
    "        yield ((point[0], point[1] + 1), m + 'D', h)\n",
    "    if possibles[2] > 10 and point[0] > 0:\n",
    "        h = hasher.copy()\n",
    "        h.update('L'.encode('utf-8'))\n",
    "        yield ((point[0] - 1, point[1]), m + 'L', h)\n",
    "    if possibles[3] > 10 and point[0] < 3:\n",
    "        h = hasher.copy()\n",
    "        h.update('R'.encode('utf-8'))\n",
    "        yield ((point[0] + 1, point[1]), m + 'R', h)\n",
    "\n",
    "initial_state = ((0, 0), '', md5(\"awrkjxxr\".encode('utf-8')))\n",
    "print(\"Day 17.1: {}\".format(next(next(astar(initial_state, paths, dist_from_vault)))[1]))"
   ]
  },
  {
   "cell_type": "markdown",
   "metadata": {},
   "source": [
    "### Part 2\n",
    "You're curious how robust this security solution really is, and so you decide to find longer and longer paths which still provide access to the vault. You remember that paths always end the first time they reach the bottom-right room (that is, they can never pass through it, only end in it).\n",
    "\n",
    "For example:\n",
    "\n",
    "- If your passcode were `ihgpwlah`, the longest path would take `370` steps.\n",
    "- With `kglvqrro`, the longest path would be `492` steps long.\n",
    "- With `ulqzkmiv`, the longest path would be `830` steps long.\n",
    "\n",
    "What is the **length of the longest path** that reaches the vault?"
   ]
  },
  {
   "cell_type": "code",
   "execution_count": 35,
   "metadata": {
    "collapsed": false
   },
   "outputs": [
    {
     "name": "stdout",
     "output_type": "stream",
     "text": [
      "Day 17.2: 526\n"
     ]
    }
   ],
   "source": [
    "print(\"Day 17.2: {}\".format(len(next([p for p in astar(initial_state, paths, dist_from_vault)][-1])[1])))"
   ]
  },
  {
   "cell_type": "markdown",
   "metadata": {},
   "source": [
    "## Day 17: Like a Rogue\n",
    "As you enter this room, you hear a loud click! Some of the tiles in the floor here seem to be pressure plates for traps, and the trap you just triggered has run out of... whatever it tried to do to you. You doubt you'll be so lucky next time.\n",
    "\n",
    "Upon closer examination, the traps and safe tiles in this room seem to follow a pattern. The tiles are arranged into rows that are all the same width; you take note of the safe tiles (`.`) and traps (`^`) in the first row (your puzzle input).\n",
    "\n",
    "The type of tile (trapped or safe) in each row is based on the types of the tiles in the same position, and to either side of that position, in the previous row. (If either side is off either end of the row, it counts as \"safe\" because there isn't a trap embedded in the wall.)\n",
    "\n",
    "For example, suppose you know the first row (with tiles marked by letters) and want to determine the next row (with tiles marked by numbers):\n",
    "\n",
    "```\n",
    "ABCDE\n",
    "12345\n",
    "```\n",
    "\n",
    "The type of tile `2` is based on the types of tiles `A`, `B`, and `C`; the type of tile `5` is based on tiles D, E, and an imaginary \"safe\" tile. Let's call these three tiles from the previous row the **left**, **center**, and **right** tiles, respectively. Then, a new tile is a trap only in one of the following situations:\n",
    "\n",
    "- Its **left** and **center** tiles are traps, but its **right** tile is not.\n",
    "- Its **center** and **right** tiles are traps, but its **left** tile is not.\n",
    "- Only its **left** tile is a trap.\n",
    "- Only its **right** tile is a trap.\n",
    "\n",
    "In any other situation, the new tile is safe.\n",
    "\n",
    "Then, starting with the row `..^^.`, you can determine the next row by applying those rules to each new tile:\n",
    "\n",
    "- The leftmost character on the next row considers the left (nonexistent, so we assume \"safe\"), center (the first `.`, which means \"safe\"), and right (the second `.`, also \"safe\") tiles on the previous row. Because all of the trap rules require a trap in at least one of the previous three tiles, the first tile on this new row is also safe, `.`.\n",
    "- The second character on the next row considers its left (`.`), center (`.`), and right (`^`) tiles from the previous row. This matches the fourth rule: only the right tile is a trap. Therefore, the next tile in this new row is a trap, `^`.\n",
    "- The third character considers `.^^`, which matches the second trap rule: its center and right tiles are traps, but its left tile is not. Therefore, this tile is also a trap, `^`.\n",
    "- The last two characters in this new row match the first and third rules, respectively, and so they are both also traps, `^`.\n",
    "\n",
    "After these steps, we now know the next row of tiles in the room: `.^^^^.` Then, we continue on to the next row, using the same rules, and get `^^..^.` After determining two new rows, our map looks like this:\n",
    "\n",
    "```\n",
    "..^^.\n",
    ".^^^^\n",
    "^^..^\n",
    "```\n",
    "Here's a larger example with ten tiles per row and ten rows:\n",
    "\n",
    "```\n",
    ".^^.^.^^^^\n",
    "^^^...^..^\n",
    "^.^^.^.^^.\n",
    "..^^...^^^\n",
    ".^^^^.^^.^\n",
    "^^..^.^^..\n",
    "^^^^..^^^.\n",
    "^..^^^^.^^\n",
    ".^^^..^.^^\n",
    "^^.^^^..^^\n",
    "```\n",
    "In ten rows, this larger example has `38` safe tiles.\n",
    "\n",
    "Starting with the map in your puzzle input, in a total of `40` rows (including the starting row), **how many safe tiles** are there?"
   ]
  },
  {
   "cell_type": "code",
   "execution_count": 36,
   "metadata": {
    "collapsed": false
   },
   "outputs": [
    {
     "name": "stdout",
     "output_type": "stream",
     "text": [
      "Day 18.1: 1939\n"
     ]
    }
   ],
   "source": [
    "def trap_room_row(row):\n",
    "    while True:\n",
    "        yield row\n",
    "        row = ['^' if left != right else '.' for left, _, right in window(['.'] + row + ['.'], 3)]\n",
    "        \n",
    "first_row = list(\".^^^.^.^^^^^..^^^..^..^..^^..^.^.^.^^.^^....^.^...^.^^.^^.^^..^^..^.^..^^^.^^...^...^^....^^.^^^^^^^\")\n",
    "print(\"Day 18.1: {}\".format(sum(map(lambda t: t[1].count('.'), zip(range(40), trap_room_row(first_row))))))"
   ]
  },
  {
   "cell_type": "markdown",
   "metadata": {},
   "source": [
    "### Part 2\n",
    "**How many safe tiles** are there in a total of `400000` rows?"
   ]
  },
  {
   "cell_type": "code",
   "execution_count": 37,
   "metadata": {
    "collapsed": false
   },
   "outputs": [
    {
     "name": "stdout",
     "output_type": "stream",
     "text": [
      "Day 18.2: 19999535\n",
      "CPU times: user 11.3 s, sys: 20.7 ms, total: 11.3 s\n",
      "Wall time: 11.3 s\n"
     ]
    }
   ],
   "source": [
    "%time print(\"Day 18.2: {}\".format(sum(map(lambda t: t[1].count('.'), zip(range(400000), trap_room_row(first_row))))))"
   ]
  },
  {
   "cell_type": "markdown",
   "metadata": {},
   "source": [
    "## Day 19: An Elephant Named Joseph\n",
    "The Elves contact you over a highly secure emergency channel. Back at the North Pole, the Elves are busy misunderstanding White Elephant parties.\n",
    "\n",
    "Each Elf brings a present. They all sit in a circle, numbered starting with position `1`. Then, starting with the first Elf, they take turns stealing all the presents from the Elf to their left. An Elf with no presents is removed from the circle and does not take turns.\n",
    "\n",
    "For example, with five Elves (numbered `1` to `5`):\n",
    "\n",
    "```\n",
    "  1\n",
    "5   2\n",
    " 4 3\n",
    "```\n",
    "\n",
    "- Elf `1` takes Elf `2`'s present.\n",
    "- Elf `2` has no presents and is skipped.\n",
    "- Elf `3` takes Elf 4's present.\n",
    "- Elf `4` has no presents and is also skipped.\n",
    "- Elf `5` takes Elf `1`'s two presents.\n",
    "- Neither Elf `1` nor Elf `2` have any presents, so both are skipped.\n",
    "- Elf `3` takes Elf `5`'s three presents.\n",
    "\n",
    "So, with **five** Elves, the Elf that sits starting in position `3` gets all the presents.\n",
    "\n",
    "With the number of Elves given in your puzzle input, **which Elf gets all the presents**?\n",
    "\n",
    "Your puzzle input is: `3004953`"
   ]
  },
  {
   "cell_type": "code",
   "execution_count": 38,
   "metadata": {
    "collapsed": false
   },
   "outputs": [
    {
     "name": "stdout",
     "output_type": "stream",
     "text": [
      "Day 19.1: 1815603\n"
     ]
    }
   ],
   "source": [
    "def elves_1(elves):\n",
    "    elves_left = range(1, elves + 1)\n",
    "    while len(elves_left) > 1:\n",
    "        elves_left = elves_left[::2] if len(elves_left) % 2 == 0 else elves_left[2::2]\n",
    "    return elves_left[0]\n",
    "\n",
    "print(\"Day 19.1: {}\".format(elves_1(3004953)))"
   ]
  },
  {
   "cell_type": "markdown",
   "metadata": {},
   "source": [
    "### Part 2\n",
    "Realizing the folly of their present-exchange rules, the Elves agree to instead steal presents from the Elf **directly across the circle**. If two Elves are across the circle, the one on the left (from the perspective of the stealer) is stolen from. The other rules remain unchanged: Elves with no presents are removed from the circle entirely, and the other elves move in slightly to keep the circle evenly spaced.\n",
    "\n",
    "For example, with five Elves (again numbered `1` to `5`):\n",
    "\n",
    "- The Elves sit in a circle; Elf `1` goes first:\n",
    "```\n",
    "  1\n",
    "5   2\n",
    " 4 3\n",
    "```\n",
    "- Elves `3` and `4` are across the circle; Elf `3`'s present is stolen, being the one to the left. Elf `3` leaves the circle, and the rest of the Elves move in:\n",
    "```\n",
    "  1           1\n",
    "5   2  -->  5   2\n",
    " 4 -          4\n",
    "```\n",
    "- Elf `2` steals from the Elf directly across the circle, Elf `5`:\n",
    "```\n",
    "  1         1 \n",
    "-   2  -->     2\n",
    "  4         4 \n",
    "```\n",
    "- Next is Elf `4` who, choosing between Elves `1` and `2`, steals from Elf `1`:\n",
    "```\n",
    " -          2  \n",
    "    2  -->\n",
    " 4          4\n",
    "```\n",
    "- Finally, Elf `2` steals from Elf `4`:\n",
    "```\n",
    " 2\n",
    "    -->  2  \n",
    " -\n",
    "```\n",
    "So, with **five** Elves, the Elf that sits starting in position 2 gets all the presents.\n",
    "\n",
    "With the number of Elves given in your puzzle input, **which Elf now gets all the presents**?"
   ]
  },
  {
   "cell_type": "code",
   "execution_count": 39,
   "metadata": {
    "collapsed": false
   },
   "outputs": [
    {
     "name": "stdout",
     "output_type": "stream",
     "text": [
      "Day 19.2: 1410630\n"
     ]
    }
   ],
   "source": [
    "class Elf(object):\n",
    "    def __init__(self, value):\n",
    "        self.value = value\n",
    "        self.prev = None\n",
    "        self.next = None\n",
    "\n",
    "    def delete(self):\n",
    "        self.prev.next = self.next\n",
    "        self.next.prev = self.prev\n",
    "\n",
    "    def __repr__(self):\n",
    "        return \"Elf[{}]\".format(self.value)\n",
    "\n",
    "def elves_2(nr_elves):\n",
    "    elves = list(map(Elf, range(1, nr_elves + 1)))\n",
    "    for i in range(nr_elves):\n",
    "        elves[i].next = elves[(i + 1) % nr_elves]\n",
    "        elves[i].prev = elves[(i - 1) % nr_elves]\n",
    "\n",
    "    curr_elf, steal = elves[0], elves[int(math.floor(nr_elves / 2))]\n",
    "    for i in range(nr_elves - 1):\n",
    "        steal.delete()\n",
    "        steal = steal.next\n",
    "        if nr_elves % 2:\n",
    "            steal = steal.next\n",
    "        curr_elf = curr_elf.next\n",
    "        nr_elves -= 1\n",
    "\n",
    "    return curr_elf.value\n",
    "\n",
    "print(\"Day 19.2: {}\".format(elves_2(3004953)))"
   ]
  },
  {
   "cell_type": "markdown",
   "metadata": {},
   "source": [
    "## Day 20: Firewall Rules\n",
    "You'd like to set up a small hidden computer here so you can use it to get back into the network later. However, the corporate firewall only allows communication with certain external IP addresses.\n",
    "\n",
    "You've retrieved the list of blocked IPs from the firewall, but the list seems to be messy and poorly maintained, and it's not clear which IPs are allowed. Also, rather than being written in dot-decimal notation, they are written as plain 32-bit integers, which can have any value from `0` through `4294967295`, inclusive.\n",
    "\n",
    "For example, suppose only the values `0` through `9` were valid, and that you retrieved the following blacklist:\n",
    "\n",
    "```\n",
    "5-8\n",
    "0-2\n",
    "4-7\n",
    "```\n",
    "The blacklist specifies ranges of IPs (inclusive of both the start and end value) that are **not** allowed. Then, the only IPs that this firewall allows are `3` and `9`, since those are the only numbers not in any range.\n",
    "\n",
    "Given the list of blocked IPs you retrieved from the firewall (your puzzle input), **what is the lowest-valued IP** that is not blocked?"
   ]
  },
  {
   "cell_type": "code",
   "execution_count": 40,
   "metadata": {
    "collapsed": false
   },
   "outputs": [
    {
     "name": "stdout",
     "output_type": "stream",
     "text": [
      "Day 20.1: 4793564\n"
     ]
    }
   ],
   "source": [
    "def find_lowest_ip(firewall_rules):\n",
    "    current_ip = 0\n",
    "    for low, high in firewall_rules:\n",
    "        if current_ip < low:\n",
    "            return current_ip\n",
    "        elif current_ip < high:\n",
    "            current_ip = high + 1\n",
    "    return current_ip\n",
    "\n",
    "with Input(20) as f:\n",
    "    firewall_rules = [tuple(map(int, line.strip().split('-'))) for line in f]\n",
    "    firewall_rules.sort()\n",
    "    print(\"Day 20.1: {}\".format(find_lowest_ip(firewall_rules)))"
   ]
  },
  {
   "cell_type": "markdown",
   "metadata": {},
   "source": [
    "### Part 2\n",
    "**How many IPs** are allowed by the blacklist?"
   ]
  },
  {
   "cell_type": "code",
   "execution_count": 41,
   "metadata": {
    "collapsed": false
   },
   "outputs": [
    {
     "name": "stdout",
     "output_type": "stream",
     "text": [
      "Day 20.2: 146\n"
     ]
    }
   ],
   "source": [
    "def count_ips(firewall_rules):\n",
    "    current_ip = 0\n",
    "    for low, high in firewall_rules:\n",
    "        if current_ip < low:\n",
    "            yield low - current_ip\n",
    "        if current_ip < high:\n",
    "            current_ip = high + 1\n",
    "    yield max(0, 4294967295 - current_ip)\n",
    "\n",
    "print(\"Day 20.2: {}\".format(sum(count_ips(firewall_rules))))"
   ]
  },
  {
   "cell_type": "markdown",
   "metadata": {},
   "source": [
    "## Day 21: Scrambled Letters and Hash\n",
    "TODO"
   ]
  },
  {
   "cell_type": "markdown",
   "metadata": {},
   "source": [
    "## Day 22: Grid Computing\n",
    "You gain access to a massive storage cluster arranged in a grid; each storage node is only connected to the four nodes directly adjacent to it (three if the node is on an edge, two if it's in a corner).\n",
    "\n",
    "You can directly access data **only** on node `/dev/grid/node-x0-y0`, but you can perform some limited actions on the other nodes:\n",
    "\n",
    "You can get the disk usage of all nodes (via df). The result of doing this is in your puzzle input.\n",
    "You can instruct a node to **move** (not copy) **all** of its data to an adjacent node (if the destination node has enough space to receive the data). The sending node is left empty after this operation.\n",
    "Nodes are named by their position: the node named `node-x10-y10` is adjacent to nodes `node-x9-y10`, `node-x11-y10`, `node-x10-y9`, and `node-x10-y11`.\n",
    "\n",
    "Before you begin, you need to understand the arrangement of data on these nodes. Even though you can only move data between directly connected nodes, you're going to need to rearrange a lot of the data to get access to the data you need. Therefore, you need to work out how you might be able to shift data around.\n",
    "\n",
    "To do this, you'd like to count the number of **viable pairs** of nodes. A viable pair is any two nodes (A,B), **regardless of whether they are directly connected**, such that:\n",
    "\n",
    "- Node A is **not** empty (its Used is not zero).\n",
    "- Nodes A and B are **not the same** node.\n",
    "- The data on node A (its Used) **would fit** on node B (its Avail).\n",
    "\n",
    "**How many viable pairs** of nodes are there?"
   ]
  },
  {
   "cell_type": "code",
   "execution_count": null,
   "metadata": {
    "collapsed": true
   },
   "outputs": [],
   "source": []
  }
 ],
 "metadata": {
  "celltoolbar": "Raw Cell Format",
  "kernelspec": {
   "display_name": "Python 3",
   "language": "python",
   "name": "python3"
  },
  "language_info": {
   "codemirror_mode": {
    "name": "ipython",
    "version": 3
   },
   "file_extension": ".py",
   "mimetype": "text/x-python",
   "name": "python",
   "nbconvert_exporter": "python",
   "pygments_lexer": "ipython3",
   "version": "3.6.0"
  }
 },
 "nbformat": 4,
 "nbformat_minor": 2
}
