{
 "cells": [
  {
   "cell_type": "markdown",
   "metadata": {},
   "source": [
    "# Advent of Code 2016\n",
    "2016-12-28 - Jeroen van Erp"
   ]
  },
  {
   "cell_type": "markdown",
   "metadata": {},
   "source": [
    "## Preamble\n",
    "First let's set up some common functions and imports"
   ]
  },
  {
   "cell_type": "code",
   "execution_count": 2,
   "metadata": {
    "collapsed": true
   },
   "outputs": [],
   "source": [
    "import re\n",
    "from heapq import heappush, heappop\n",
    "from collections import namedtuple, defaultdict, Counter\n",
    "from hashlib import md5\n",
    "from bitarray import bitarray\n",
    "import math\n",
    "from functools import partial\n",
    "from itertools import permutations, combinations, islice\n",
    "import numpy as np\n",
    "import networkx as nx\n",
    "import urllib\n",
    "\n",
    "def Input(day):\n",
    "    \"Open this day's input file.\"\n",
    "    filename = 'day{}.in'.format(day)\n",
    "    try:\n",
    "        return open(filename)\n",
    "    except FileNotFoundError:\n",
    "        return urllib.request.urlopen(\"https://raw.githubusercontent.com/hierynomus/code-challenges/master/2016-adventofcode.com/\" + filename).text\n",
    "\n",
    "    \n",
    "def neighbours4(point):\n",
    "    \"\"\"All horizontal and vertical neighbours of a point in a grid\"\"\"\n",
    "    for dx, dy in [(-1, 0), (1, 0), (0, -1), (0, 1)]:\n",
    "        yield (point[0] + dx, point[1] + dy)\n",
    "\n",
    "def neighbours8(point):\n",
    "    \"\"\"All neighbours (including diagonals) of a point in a grid\"\"\"\n",
    "    for dx in [-1, 0, 1]:\n",
    "        for dy in [-1, 0, 1]:\n",
    "            if dx != 0 and dy != 0:\n",
    "                yield (point[0] + dx, point[1] + dy)\n",
    "                \n",
    "def manhattan_distance(p1, p2):\n",
    "    \"\"\"Return the Manhattan distance between two points\"\"\"\n",
    "    return abs(p1[0] - p2[0]) + abs(p1[1] - p2[1])\n",
    "                "
   ]
  },
  {
   "cell_type": "markdown",
   "metadata": {},
   "source": [
    "## Day 1: No Time for a Taxicab\n",
    "\n",
    "### Part 1\n",
    "Santa's sleigh uses a very high-precision clock to guide its movements, and the clock's oscillator is regulated by stars. Unfortunately, the stars have been stolen... by the Easter Bunny. To save Christmas, Santa needs you to retrieve all fifty stars by December 25th.\n",
    "\n",
    "Collect stars by solving puzzles. Two puzzles will be made available on each day in the advent calendar; the second puzzle is unlocked when you complete the first. Each puzzle grants one star. Good luck!\n",
    "\n",
    "You're airdropped near **Easter Bunny Headquarters** in a city somewhere. \"Near\", unfortunately, is as close as you can get - the instructions on the Easter Bunny Recruiting Document the Elves intercepted start here, and nobody had time to work them out further.\n",
    "\n",
    "The Document indicates that you should start at the given coordinates (where you just landed) and face North. Then, follow the provided sequence: either turn left (L) or right (R) 90 degrees, then walk forward the given number of blocks, ending at a new intersection.\n",
    "\n",
    "There's no time to follow such ridiculous instructions on foot, though, so you take a moment and work out the destination. Given that you can only walk on the street grid of the city, how far is the shortest path to the destination?\n",
    "\n",
    "For example:\n",
    "\n",
    "- Following `R2, L3` leaves you 2 blocks East and 3 blocks North, or 5 blocks away.\n",
    "- `R2, R2, R2` leaves you 2 blocks due South of your starting position, which is 2 blocks away.\n",
    "- `R5, L5, R5, R3` leaves you 12 blocks away.\n",
    "\n",
    "**How many blocks away** is Easter Bunny HQ?"
   ]
  },
  {
   "cell_type": "code",
   "execution_count": 3,
   "metadata": {
    "collapsed": false
   },
   "outputs": [
    {
     "name": "stdout",
     "output_type": "stream",
     "text": [
      "Day 1.1: 287\n"
     ]
    }
   ],
   "source": [
    "# 0 = North, 1 = West, 2 = South, 3 = East\n",
    "dirs = {0: (0, 1), 1: (1, 0), 2: (0, -1), 3: (-1, 0)}\n",
    "\n",
    "\n",
    "def walk(point, direction, instruction):\n",
    "    x, y = point\n",
    "    direction = turn(direction, instruction[0])\n",
    "    dx, dy = dirs[direction]\n",
    "    for _ in range(int(instruction[1:])):\n",
    "        x, y = x + dx, y + dy\n",
    "        yield (x, y), direction\n",
    "\n",
    "def turn(direction, c):\n",
    "    return (direction + (1 if c == 'R' else -1)) % 4\n",
    "\n",
    "with Input(1) as f:\n",
    "    direction = 0\n",
    "    position = (0, 0)\n",
    "    for instruction in f.readline().split(', '):\n",
    "        position, direction = list(walk(position, direction, instruction))[-1]\n",
    "\n",
    "    print(\"Day 1.1: {}\".format(manhattan_distance((0, 0), position)))"
   ]
  },
  {
   "cell_type": "markdown",
   "metadata": {},
   "source": [
    "### Part 2\n",
    "Then, you notice the instructions continue on the back of the Recruiting Document. Easter Bunny HQ is actually at the first location you visit twice.\n",
    "\n",
    "For example, if your instructions are `R8, R4, R4, R8`, the first location you visit twice is 4 blocks away, due East.\n",
    "\n",
    "How many blocks away is the **first location you visit twice**?"
   ]
  },
  {
   "cell_type": "code",
   "execution_count": 4,
   "metadata": {
    "collapsed": false
   },
   "outputs": [
    {
     "name": "stdout",
     "output_type": "stream",
     "text": [
      "Day 1.2: 133\n"
     ]
    }
   ],
   "source": [
    "with Input(1) as f:\n",
    "    def solve():\n",
    "        direction = 0\n",
    "        position = (0, 0)\n",
    "        visited = set()\n",
    "        for instruction in f.readline().split(', '):\n",
    "            for p, d in walk(position, direction, instruction):\n",
    "                if p in visited:\n",
    "                    yield p\n",
    "                visited.add(p)\n",
    "                position, direction = p, d\n",
    "    print(\"Day 1.2: {}\".format(manhattan_distance((0, 0), next(solve()))))\n"
   ]
  },
  {
   "cell_type": "markdown",
   "metadata": {},
   "source": [
    "## Day 2: Bathroom security\n",
    "You arrive at **Easter Bunny Headquarters** under cover of darkness. However, you left in such a rush that you forgot to use the bathroom! Fancy office buildings like this one usually have keypad locks on their bathrooms, so you search the front desk for the code.\n",
    "\n",
    "\"In order to improve security,\" the document you find says, \"bathroom codes will no longer be written down. Instead, please memorize and follow the procedure below to access the bathrooms.\"\n",
    "\n",
    "The document goes on to explain that each button to be pressed can be found by starting on the previous button and moving to adjacent buttons on the keypad: U moves up, D moves down, L moves left, and R moves right. Each line of instructions corresponds to one button, starting at the previous button (or, for the first line, **the \"5\" button**); press whatever button you're on at the end of each line. If a move doesn't lead to a button, ignore it.\n",
    "\n",
    "You can't hold it much longer, so you decide to figure out the code as you walk to the bathroom. You picture a keypad like this:\n",
    "\n",
    "```\n",
    "1 2 3\n",
    "4 5 6\n",
    "7 8 9\n",
    "```\n",
    "Suppose your instructions are:\n",
    "\n",
    "```\n",
    "ULL\n",
    "RRDDD\n",
    "LURDL\n",
    "UUUUD\n",
    "```\n",
    "\n",
    "- You start at \"5\" and move up (to \"2\"), left (to \"1\"), and left (you can't, and stay on \"1\"), so the first button is `1`.\n",
    "- Starting from the previous button (\"1\"), you move right twice (to \"3\") and then down three times (stopping at \"9\" after two moves and ignoring the third), ending up with `9`.\n",
    "- Continuing from \"9\", you move left, up, right, down, and left, ending with `8`.\n",
    "- Finally, you move up four times (stopping at \"2\"), then down once, ending with `5`.\n",
    "So, in this example, the bathroom code is `1985`.\n",
    "\n",
    "Your puzzle input is the instructions from the document you found at the front desk. What is the `bathroom code`?"
   ]
  },
  {
   "cell_type": "code",
   "execution_count": 5,
   "metadata": {
    "collapsed": false
   },
   "outputs": [
    {
     "name": "stdout",
     "output_type": "stream",
     "text": [
      "Day 2.1: 78293\n"
     ]
    }
   ],
   "source": [
    "keypad = [[1, 2, 3], [4, 5, 6], [7, 8, 9]]\n",
    "moves = {\n",
    "    'U': lambda k: (k[0], max(0, k[1] - 1)),\n",
    "    'D': lambda k: (k[0], min(2, k[1] + 1)),\n",
    "    'L': lambda k: (max(0, k[0] - 1), k[1]),\n",
    "    'R': lambda k: (min(2, k[0] + 1), k[1])\n",
    "}\n",
    "\n",
    "with Input(2) as f:\n",
    "    key = (1, 1)\n",
    "    sequence = []\n",
    "    for line in f:\n",
    "        for c in line.strip():\n",
    "            key = moves[c](key)\n",
    "        sequence.append(keypad[key[1]][key[0]])\n",
    "    print(\"Day 2.1: {}\".format(''.join(map(str, sequence))))"
   ]
  },
  {
   "cell_type": "markdown",
   "metadata": {},
   "source": [
    "### Part 2\n",
    "You finally arrive at the bathroom (it's a several minute walk from the lobby so visitors can behold the many fancy conference rooms and water coolers on this floor) and go to punch in the code. Much to your bladder's dismay, the keypad is not at all like you imagined it. Instead, you are confronted with the result of hundreds of man-hours of bathroom-keypad-design meetings:\n",
    "\n",
    "```\n",
    "    1\n",
    "  2 3 4\n",
    "5 6 7 8 9\n",
    "  A B C\n",
    "    D\n",
    "```\n",
    "You still start at \"5\" and stop when you're at an edge, but given the same instructions as above, the outcome is very different:\n",
    "\n",
    "- You start at \"5\" and don't move at all (up and left are both edges), ending at `5`.\n",
    "- Continuing from \"5\", you move right twice and down three times (through \"6\", \"7\", \"B\", \"D\", \"D\"), ending at `D`.\n",
    "- Then, from \"D\", you move five more times (through \"D\", \"B\", \"C\", \"C\", \"B\"), ending at `B`.\n",
    "- Finally, after five more moves, you end at `3`.\n",
    "So, given the actual keypad layout, the code would be `5DB3`.\n",
    "\n",
    "Using the same instructions in your puzzle input, what is the correct **bathroom code**?"
   ]
  },
  {
   "cell_type": "code",
   "execution_count": 6,
   "metadata": {
    "collapsed": false
   },
   "outputs": [
    {
     "name": "stdout",
     "output_type": "stream",
     "text": [
      "Day 2.2: AC8C8\n"
     ]
    }
   ],
   "source": [
    "keypad = {\n",
    "    '1': {'D': '3'},\n",
    "    '2': {'R': '3', 'D': '6'},\n",
    "    '3': {'U': '1', 'L': '2', 'D': '7', 'R': '4'},\n",
    "    '4': {'L': '3', 'D': '8'},\n",
    "    '5': {'R': '6'},\n",
    "    '6': {'L': '5', 'U': '2', 'R': '7', 'D': 'A'},\n",
    "    '7': {'L': '6', 'U': '3', 'R': '8', 'D': 'B'},\n",
    "    '8': {'L': '7', 'U': '4', 'R': '9', 'D': 'C'},\n",
    "    '9': {'L': '8'},\n",
    "    'A': {'U': '6', 'R': 'B'},\n",
    "    'B': {'L': 'A', 'U': '7', 'R': 'C', 'D': 'D'},\n",
    "    'C': {'U': '8', 'L': 'B'},\n",
    "    'D': {'U': 'A'}\n",
    "}\n",
    "\n",
    "with Input(2) as f:\n",
    "    key = '5'\n",
    "    sequence = []\n",
    "    for line in f:\n",
    "        for c in line.strip():\n",
    "            key = keypad[key][c] if c in keypad[key] else key\n",
    "        sequence.append(key)\n",
    "    print(\"Day 2.2: {}\".format(''.join(sequence)))"
   ]
  },
  {
   "cell_type": "markdown",
   "metadata": {},
   "source": [
    "## Day 3: Squares With Three Sides\n",
    "Now that you can think clearly, you move deeper into the labyrinth of hallways and office furniture that makes up this part of Easter Bunny HQ. This must be a graphic design department; the walls are covered in specifications for triangles.\n",
    "\n",
    "Or are they?\n",
    "\n",
    "The design document gives the side lengths of each triangle it describes, but... `5 10 25`? Some of these aren't triangles. You can't help but mark the impossible ones.\n",
    "\n",
    "In a valid triangle, the sum of any two sides must be larger than the remaining side. For example, the \"triangle\" given above is impossible, because `5 + 10` is not larger than `25`.\n",
    "\n",
    "In your puzzle input, **how many** of the listed triangles are **possible**?"
   ]
  },
  {
   "cell_type": "code",
   "execution_count": 7,
   "metadata": {
    "collapsed": false
   },
   "outputs": [
    {
     "name": "stdout",
     "output_type": "stream",
     "text": [
      "Day 3.1: 869\n"
     ]
    }
   ],
   "source": [
    "def is_triangle(triangle):\n",
    "    x, y, z = sorted(triangle)\n",
    "    return x + y > z\n",
    "\n",
    "with Input(3) as f:\n",
    "    triangles = [[int(c) for c in line.strip().split()] for line in f]\n",
    "    print(\"Day 3.1: {}\".format(sum(map(is_triangle, triangles))))"
   ]
  },
  {
   "cell_type": "markdown",
   "metadata": {},
   "source": [
    "Now that you've helpfully marked up their design documents, it occurs to you that triangles are specified in groups of three **vertically**. Each set of three numbers in a column specifies a triangle. Rows are unrelated.\n",
    "\n",
    "For example, given the following specification, numbers with the same hundreds digit would be part of the same triangle:\n",
    "\n",
    "```\n",
    "101 301 501\n",
    "102 302 502\n",
    "103 303 503\n",
    "201 401 601\n",
    "202 402 602\n",
    "203 403 603\n",
    "```\n",
    "In your puzzle input, and instead reading by columns, **how many** of the listed triangles are **possible**?"
   ]
  },
  {
   "cell_type": "code",
   "execution_count": 8,
   "metadata": {
    "collapsed": false
   },
   "outputs": [
    {
     "name": "stdout",
     "output_type": "stream",
     "text": [
      "Day 3.2: 1544\n"
     ]
    }
   ],
   "source": [
    "triangles = np.transpose(np.array(triangles)).reshape(len(triangles), 3)\n",
    "print(\"Day 3.2: {}\".format(sum(map(is_triangle, triangles))))"
   ]
  },
  {
   "cell_type": "markdown",
   "metadata": {},
   "source": [
    "## Day 4: Security Through Obscurity\n",
    "Finally, you come across an information kiosk with a list of rooms. Of course, the list is encrypted and full of decoy data, but the instructions to decode the list are barely hidden nearby. Better remove the decoy data first.\n",
    "\n",
    "Each room consists of an encrypted name (lowercase letters separated by dashes) followed by a dash, a sector ID, and a checksum in square brackets.\n",
    "\n",
    "A room is real (not a decoy) if the checksum is the five most common letters in the encrypted name, in order, with ties broken by alphabetization. For example:\n",
    "\n",
    "- `aaaaa-bbb-z-y-x-123[abxyz]` is a real room because the most common letters are `a` (5), `b` (3), and then a tie between `x`, `y`, and `z`, which are listed alphabetically.\n",
    "- `a-b-c-d-e-f-g-h-987[abcde]` is a real room because although the letters are all tied (1 of each), the first five are listed alphabetically.\n",
    "- `not-a-real-room-404[oarel]` is a real room.\n",
    "- `totally-real-room-200[decoy]` is not.\n",
    "\n",
    "Of the real rooms from the list above, the sum of their sector IDs is `1514`.\n",
    "\n",
    "What is the **sum of the sector IDs of the real rooms**?"
   ]
  },
  {
   "cell_type": "code",
   "execution_count": 9,
   "metadata": {
    "collapsed": false
   },
   "outputs": [
    {
     "name": "stdout",
     "output_type": "stream",
     "text": [
      "Day 4.1: 409147\n"
     ]
    }
   ],
   "source": [
    "room_re = re.compile(\"(?P<name>[a-z-]+)-(?P<sector>[0-9]+)\\[(?P<checksum>[a-z]{5})\\]\")\n",
    "\n",
    "def real_room(room):\n",
    "    counter = Counter(room['name'])\n",
    "    del counter['-']\n",
    "    top5 = sorted([(-n, c) for c, n in counter.most_common()])[:5]\n",
    "    top = ''.join([c for n, c in top5])\n",
    "    return room['checksum'] == top\n",
    "\n",
    "with Input(4) as f:\n",
    "    rooms = list(filter(real_room, [room_re.search(r).groupdict() for r in f]))\n",
    "    print(\"Day 4.1: {}\".format(sum(map(lambda r: int(r['sector']), rooms))))"
   ]
  },
  {
   "cell_type": "markdown",
   "metadata": {},
   "source": [
    "### Part 2\n",
    "With all the decoy data out of the way, it's time to decrypt this list and get moving.\n",
    "\n",
    "The room names are encrypted by a state-of-the-art shift cipher, which is nearly unbreakable without the right software. However, the information kiosk designers at Easter Bunny HQ were not expecting to deal with a master cryptographer like yourself.\n",
    "\n",
    "To decrypt a room name, rotate each letter forward through the alphabet a number of times equal to the room's sector ID. `A` becomes `B`, `B` becomes `C`, `Z` becomes `A`, and so on. Dashes become spaces.\n",
    "\n",
    "For example, the real name for `qzmt-zixmtkozy-ivhz-343` is `very encrypted name`.\n",
    "\n",
    "**What is the sector ID** of the room where North Pole objects are stored?"
   ]
  },
  {
   "cell_type": "code",
   "execution_count": 10,
   "metadata": {
    "collapsed": false
   },
   "outputs": [
    {
     "name": "stdout",
     "output_type": "stream",
     "text": [
      "Day 4.2: 991\n"
     ]
    }
   ],
   "source": [
    "def solve(rooms):\n",
    "    for room in rooms:\n",
    "        name, sector = room['name'], int(room['sector'])\n",
    "        decrypted = ''.join([' ' if c == '-' else chr((((ord(c) - 97) + sector) % 26) + 97) for c in name])\n",
    "        if 'northpole' in decrypted:\n",
    "            yield sector\n",
    "\n",
    "print(\"Day 4.2: {}\".format(next(solve(rooms))))"
   ]
  },
  {
   "cell_type": "markdown",
   "metadata": {
    "collapsed": true
   },
   "source": [
    "## Day 5: How About a Nice Game of Chess\n",
    "You are faced with a security door designed by Easter Bunny engineers that seem to have acquired most of their security knowledge by watching hacking movies.\n",
    "\n",
    "The **eight-character password** for the door is generated one character at a time by finding the MD5 hash of some Door ID (your puzzle input) and an increasing integer index (starting with `0`).\n",
    "\n",
    "A hash indicates the **next character** in the password if its hexadecimal representation starts with **five zeroes**. If it does, the sixth character in the hash is the next character of the password.\n",
    "\n",
    "For example, if the Door ID is `abc`:\n",
    "\n",
    "- The first index which produces a hash that starts with five zeroes is `3231929`, which we find by hashing `abc3231929`; the sixth character of the hash, and thus the first character of the password, is `1`.\n",
    "- `5017308` produces the next interesting hash, which starts with `000008f82...`, so the second character of the password is `8`.\n",
    "- The third time a hash starts with five zeroes is for `abc5278568`, discovering the character `f`.\n",
    "\n",
    "In this example, after continuing this search a total of eight times, the password is `18f47a30`.\n",
    "\n",
    "Given the actual Door ID, **what is the password**?\n",
    "\n",
    "Your puzzle input is `reyedfim`"
   ]
  },
  {
   "cell_type": "code",
   "execution_count": 15,
   "metadata": {
    "collapsed": false
   },
   "outputs": [
    {
     "name": "stdout",
     "output_type": "stream",
     "text": [
      "Day 5.1: f97c354d\n"
     ]
    }
   ],
   "source": [
    "def door_password(inp):\n",
    "    hasher = md5(inp.encode('utf-8'))\n",
    "    idx = 0\n",
    "    while True:\n",
    "        copy = hasher.copy()\n",
    "        copy.update(str(idx).encode('utf-8'))\n",
    "        digest = copy.hexdigest()\n",
    "        idx += 1\n",
    "        if digest[:5] == '00000':\n",
    "            yield digest\n",
    "\n",
    "print(\"Day 5.1: {}\".format(''.join([c[5] for _, c in zip(range(8), door_password('reyedfim'))])))\n"
   ]
  },
  {
   "cell_type": "markdown",
   "metadata": {},
   "source": [
    "### Part 2\n",
    "As the door slides open, you are presented with a second door that uses a slightly more inspired security mechanism. Clearly unimpressed by the last version (in what movie is the password decrypted **in order**?!), the Easter Bunny engineers have worked out a better solution.\n",
    "\n",
    "Instead of simply filling in the password from left to right, the hash now also indicates the **position** within the password to fill. You still look for hashes that begin with five zeroes; however, now, the **sixth** character represents the **position** (`0`-`7`), and the **seventh** character is the character to put in that position.\n",
    "\n",
    "A hash result of `000001f` means that `f` is the **second** character in the password. Use only the **first result** for each position, and ignore invalid positions.\n",
    "\n",
    "For example, if the Door ID is `abc`:\n",
    "\n",
    "- The first interesting hash is from `abc3231929`, which produces `0000015...`; so, `5` goes in position `1`: `_5______`.\n",
    "- In the previous method, `5017308` produced an interesting hash; however, it is ignored, because it specifies an invalid position (`8`).\n",
    "- The second interesting hash is at index `5357525`, which produces `000004e...`; so, `e` goes in position `4`: `_5__e___`.\n",
    "\n",
    "You almost choke on your popcorn as the final character falls into place, producing the password `05ace8e3`.\n",
    "\n",
    "Given the actual Door ID and this new method, **what is the password**? Be extra proud of your solution if it uses a cinematic \"decrypting\" animation."
   ]
  },
  {
   "cell_type": "code",
   "execution_count": 16,
   "metadata": {
    "collapsed": false
   },
   "outputs": [
    {
     "name": "stdout",
     "output_type": "stream",
     "text": [
      "Day 5.2: 863dde27\n"
     ]
    }
   ],
   "source": [
    "password = [None] * 8\n",
    "generator = door_password('reyedfim')\n",
    "while None in password:\n",
    "    h = next(generator)\n",
    "    pos = int(h[5], 16)\n",
    "    if pos < 8 and not password[pos]:\n",
    "        password[pos] = h[6]\n",
    "        \n",
    "print(\"Day 5.2: {}\".format(''.join(password)))"
   ]
  },
  {
   "cell_type": "markdown",
   "metadata": {},
   "source": [
    "## Day 6: Signals and Noise\n",
    "Something is jamming your communications with Santa. Fortunately, your signal is only partially jammed, and protocol in situations like this is to switch to a simple repetition code to get the message through.\n",
    "\n",
    "In this model, the same message is sent repeatedly. You've recorded the repeating message signal (your puzzle input), but the data seems quite corrupted - almost too badly to recover. **Almost**.\n",
    "\n",
    "All you need to do is figure out which character is most frequent for each position. For example, suppose you had recorded the following messages:\n",
    "\n",
    "```\n",
    "eedadn\n",
    "drvtee\n",
    "eandsr\n",
    "raavrd\n",
    "atevrs\n",
    "tsrnev\n",
    "sdttsa\n",
    "rasrtv\n",
    "nssdts\n",
    "ntnada\n",
    "svetve\n",
    "tesnvt\n",
    "vntsnd\n",
    "vrdear\n",
    "dvrsen\n",
    "enarar\n",
    "```\n",
    "\n",
    "The most common character in the first column is `e`; in the second, `a`; in the third, `s`, and so on. Combining these characters returns the error-corrected message, easter.\n",
    "\n",
    "Given the recording in your puzzle input, **what is the error-corrected version** of the message being sent?"
   ]
  },
  {
   "cell_type": "code",
   "execution_count": 18,
   "metadata": {
    "collapsed": false
   },
   "outputs": [
    {
     "name": "stdout",
     "output_type": "stream",
     "text": [
      "Day 6.1: zcreqgiv\n"
     ]
    }
   ],
   "source": [
    "with Input(6) as f:\n",
    "    inp = np.array([list(line.strip()) for line in f])\n",
    "    counters = [Counter(p).most_common() for p in np.transpose(inp)]\n",
    "\n",
    "print(\"Day 6.1: {}\".format(''.join([c[0][0] for c in counters])))"
   ]
  },
  {
   "cell_type": "markdown",
   "metadata": {},
   "source": [
    "### Part 2\n",
    "Of course, that **would** be the message - if you hadn't agreed to use a **modified repetition code** instead.\n",
    "\n",
    "In this modified code, the sender instead transmits what looks like random data, but for each character, the character they actually want to send is **slightly less likely** than the others. Even after signal-jamming noise, you can look at the letter distributions in each column and choose the **least common** letter to reconstruct the original message.\n",
    "\n",
    "In the above example, the least common character in the first column is `a`; in the second, `d`, and so on. Repeating this process for the remaining characters produces the original message, `advent`.\n",
    "\n",
    "Given the recording in your puzzle input and this new decoding methodology, **what is the original message** that Santa is trying to send?"
   ]
  },
  {
   "cell_type": "code",
   "execution_count": 19,
   "metadata": {
    "collapsed": false
   },
   "outputs": [
    {
     "name": "stdout",
     "output_type": "stream",
     "text": [
      "Day 6.2: pljvorrk\n"
     ]
    }
   ],
   "source": [
    "print(\"Day 6.2: {}\".format(''.join(c[-1][0] for c in counters)))"
   ]
  },
  {
   "cell_type": "code",
   "execution_count": null,
   "metadata": {
    "collapsed": true
   },
   "outputs": [],
   "source": []
  }
 ],
 "metadata": {
  "celltoolbar": "Raw Cell Format",
  "kernelspec": {
   "display_name": "Python 3",
   "language": "python",
   "name": "python3"
  },
  "language_info": {
   "codemirror_mode": {
    "name": "ipython",
    "version": 3
   },
   "file_extension": ".py",
   "mimetype": "text/x-python",
   "name": "python",
   "nbconvert_exporter": "python",
   "pygments_lexer": "ipython3",
   "version": "3.5.2"
  }
 },
 "nbformat": 4,
 "nbformat_minor": 2
}
